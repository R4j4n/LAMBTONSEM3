{
 "cells": [
  {
   "cell_type": "code",
   "execution_count": 2,
   "metadata": {},
   "outputs": [
    {
     "name": "stdout",
     "output_type": "stream",
     "text": [
      "Setup complete!\n",
      "Sampling mode: ON - Using a subset of data for testing\n",
      "Processing max 2 chunks with up to 1000 sessions per chunk\n",
      "Loading buys data...\n",
      "Setting up columns for clicks data...\n",
      "Buys data shape: (1150753, 5)\n",
      "   session                 timestamp    item_id  price  qty\n",
      "0   420374  2014-04-06T18:44:58.314Z  214537888  12462    1\n",
      "1   420374  2014-04-06T18:44:58.325Z  214537850  10471    1\n",
      "2   281626  2014-04-06T09:40:13.032Z  214535653   1883    1\n",
      "3   420368  2014-04-04T06:13:28.848Z  214530572   6073    1\n",
      "4   420368  2014-04-04T06:13:28.858Z  214835025   2617    1\n",
      "Exploring buys data...\n"
     ]
    },
    {
     "data": {
      "application/vnd.plotly.v1+json": {
       "config": {
        "plotlyServerURL": "https://plot.ly"
       },
       "data": [
        {
         "hovertemplate": "Item ID=%{x}<br>Count=%{y}<extra></extra>",
         "legendgroup": "",
         "marker": {
          "color": "#636efa",
          "pattern": {
           "shape": ""
          }
         },
         "name": "",
         "orientation": "v",
         "showlegend": false,
         "textposition": "auto",
         "type": "bar",
         "x": [
          "643078800",
          "214829878",
          "214853420",
          "214829887",
          "214853102",
          "214821277",
          "214834880",
          "214834877",
          "214853094",
          "214844439"
         ],
         "xaxis": "x",
         "y": {
          "bdata": "YzuRH+wUtBLSDwIO/w32DcINUw0=",
          "dtype": "i2"
         },
         "yaxis": "y"
        }
       ],
       "layout": {
        "barmode": "relative",
        "legend": {
         "tracegroupgap": 0
        },
        "template": {
         "data": {
          "bar": [
           {
            "error_x": {
             "color": "#2a3f5f"
            },
            "error_y": {
             "color": "#2a3f5f"
            },
            "marker": {
             "line": {
              "color": "#E5ECF6",
              "width": 0.5
             },
             "pattern": {
              "fillmode": "overlay",
              "size": 10,
              "solidity": 0.2
             }
            },
            "type": "bar"
           }
          ],
          "barpolar": [
           {
            "marker": {
             "line": {
              "color": "#E5ECF6",
              "width": 0.5
             },
             "pattern": {
              "fillmode": "overlay",
              "size": 10,
              "solidity": 0.2
             }
            },
            "type": "barpolar"
           }
          ],
          "carpet": [
           {
            "aaxis": {
             "endlinecolor": "#2a3f5f",
             "gridcolor": "white",
             "linecolor": "white",
             "minorgridcolor": "white",
             "startlinecolor": "#2a3f5f"
            },
            "baxis": {
             "endlinecolor": "#2a3f5f",
             "gridcolor": "white",
             "linecolor": "white",
             "minorgridcolor": "white",
             "startlinecolor": "#2a3f5f"
            },
            "type": "carpet"
           }
          ],
          "choropleth": [
           {
            "colorbar": {
             "outlinewidth": 0,
             "ticks": ""
            },
            "type": "choropleth"
           }
          ],
          "contour": [
           {
            "colorbar": {
             "outlinewidth": 0,
             "ticks": ""
            },
            "colorscale": [
             [
              0,
              "#0d0887"
             ],
             [
              0.1111111111111111,
              "#46039f"
             ],
             [
              0.2222222222222222,
              "#7201a8"
             ],
             [
              0.3333333333333333,
              "#9c179e"
             ],
             [
              0.4444444444444444,
              "#bd3786"
             ],
             [
              0.5555555555555556,
              "#d8576b"
             ],
             [
              0.6666666666666666,
              "#ed7953"
             ],
             [
              0.7777777777777778,
              "#fb9f3a"
             ],
             [
              0.8888888888888888,
              "#fdca26"
             ],
             [
              1,
              "#f0f921"
             ]
            ],
            "type": "contour"
           }
          ],
          "contourcarpet": [
           {
            "colorbar": {
             "outlinewidth": 0,
             "ticks": ""
            },
            "type": "contourcarpet"
           }
          ],
          "heatmap": [
           {
            "colorbar": {
             "outlinewidth": 0,
             "ticks": ""
            },
            "colorscale": [
             [
              0,
              "#0d0887"
             ],
             [
              0.1111111111111111,
              "#46039f"
             ],
             [
              0.2222222222222222,
              "#7201a8"
             ],
             [
              0.3333333333333333,
              "#9c179e"
             ],
             [
              0.4444444444444444,
              "#bd3786"
             ],
             [
              0.5555555555555556,
              "#d8576b"
             ],
             [
              0.6666666666666666,
              "#ed7953"
             ],
             [
              0.7777777777777778,
              "#fb9f3a"
             ],
             [
              0.8888888888888888,
              "#fdca26"
             ],
             [
              1,
              "#f0f921"
             ]
            ],
            "type": "heatmap"
           }
          ],
          "histogram": [
           {
            "marker": {
             "pattern": {
              "fillmode": "overlay",
              "size": 10,
              "solidity": 0.2
             }
            },
            "type": "histogram"
           }
          ],
          "histogram2d": [
           {
            "colorbar": {
             "outlinewidth": 0,
             "ticks": ""
            },
            "colorscale": [
             [
              0,
              "#0d0887"
             ],
             [
              0.1111111111111111,
              "#46039f"
             ],
             [
              0.2222222222222222,
              "#7201a8"
             ],
             [
              0.3333333333333333,
              "#9c179e"
             ],
             [
              0.4444444444444444,
              "#bd3786"
             ],
             [
              0.5555555555555556,
              "#d8576b"
             ],
             [
              0.6666666666666666,
              "#ed7953"
             ],
             [
              0.7777777777777778,
              "#fb9f3a"
             ],
             [
              0.8888888888888888,
              "#fdca26"
             ],
             [
              1,
              "#f0f921"
             ]
            ],
            "type": "histogram2d"
           }
          ],
          "histogram2dcontour": [
           {
            "colorbar": {
             "outlinewidth": 0,
             "ticks": ""
            },
            "colorscale": [
             [
              0,
              "#0d0887"
             ],
             [
              0.1111111111111111,
              "#46039f"
             ],
             [
              0.2222222222222222,
              "#7201a8"
             ],
             [
              0.3333333333333333,
              "#9c179e"
             ],
             [
              0.4444444444444444,
              "#bd3786"
             ],
             [
              0.5555555555555556,
              "#d8576b"
             ],
             [
              0.6666666666666666,
              "#ed7953"
             ],
             [
              0.7777777777777778,
              "#fb9f3a"
             ],
             [
              0.8888888888888888,
              "#fdca26"
             ],
             [
              1,
              "#f0f921"
             ]
            ],
            "type": "histogram2dcontour"
           }
          ],
          "mesh3d": [
           {
            "colorbar": {
             "outlinewidth": 0,
             "ticks": ""
            },
            "type": "mesh3d"
           }
          ],
          "parcoords": [
           {
            "line": {
             "colorbar": {
              "outlinewidth": 0,
              "ticks": ""
             }
            },
            "type": "parcoords"
           }
          ],
          "pie": [
           {
            "automargin": true,
            "type": "pie"
           }
          ],
          "scatter": [
           {
            "fillpattern": {
             "fillmode": "overlay",
             "size": 10,
             "solidity": 0.2
            },
            "type": "scatter"
           }
          ],
          "scatter3d": [
           {
            "line": {
             "colorbar": {
              "outlinewidth": 0,
              "ticks": ""
             }
            },
            "marker": {
             "colorbar": {
              "outlinewidth": 0,
              "ticks": ""
             }
            },
            "type": "scatter3d"
           }
          ],
          "scattercarpet": [
           {
            "marker": {
             "colorbar": {
              "outlinewidth": 0,
              "ticks": ""
             }
            },
            "type": "scattercarpet"
           }
          ],
          "scattergeo": [
           {
            "marker": {
             "colorbar": {
              "outlinewidth": 0,
              "ticks": ""
             }
            },
            "type": "scattergeo"
           }
          ],
          "scattergl": [
           {
            "marker": {
             "colorbar": {
              "outlinewidth": 0,
              "ticks": ""
             }
            },
            "type": "scattergl"
           }
          ],
          "scattermap": [
           {
            "marker": {
             "colorbar": {
              "outlinewidth": 0,
              "ticks": ""
             }
            },
            "type": "scattermap"
           }
          ],
          "scattermapbox": [
           {
            "marker": {
             "colorbar": {
              "outlinewidth": 0,
              "ticks": ""
             }
            },
            "type": "scattermapbox"
           }
          ],
          "scatterpolar": [
           {
            "marker": {
             "colorbar": {
              "outlinewidth": 0,
              "ticks": ""
             }
            },
            "type": "scatterpolar"
           }
          ],
          "scatterpolargl": [
           {
            "marker": {
             "colorbar": {
              "outlinewidth": 0,
              "ticks": ""
             }
            },
            "type": "scatterpolargl"
           }
          ],
          "scatterternary": [
           {
            "marker": {
             "colorbar": {
              "outlinewidth": 0,
              "ticks": ""
             }
            },
            "type": "scatterternary"
           }
          ],
          "surface": [
           {
            "colorbar": {
             "outlinewidth": 0,
             "ticks": ""
            },
            "colorscale": [
             [
              0,
              "#0d0887"
             ],
             [
              0.1111111111111111,
              "#46039f"
             ],
             [
              0.2222222222222222,
              "#7201a8"
             ],
             [
              0.3333333333333333,
              "#9c179e"
             ],
             [
              0.4444444444444444,
              "#bd3786"
             ],
             [
              0.5555555555555556,
              "#d8576b"
             ],
             [
              0.6666666666666666,
              "#ed7953"
             ],
             [
              0.7777777777777778,
              "#fb9f3a"
             ],
             [
              0.8888888888888888,
              "#fdca26"
             ],
             [
              1,
              "#f0f921"
             ]
            ],
            "type": "surface"
           }
          ],
          "table": [
           {
            "cells": {
             "fill": {
              "color": "#EBF0F8"
             },
             "line": {
              "color": "white"
             }
            },
            "header": {
             "fill": {
              "color": "#C8D4E3"
             },
             "line": {
              "color": "white"
             }
            },
            "type": "table"
           }
          ]
         },
         "layout": {
          "annotationdefaults": {
           "arrowcolor": "#2a3f5f",
           "arrowhead": 0,
           "arrowwidth": 1
          },
          "autotypenumbers": "strict",
          "coloraxis": {
           "colorbar": {
            "outlinewidth": 0,
            "ticks": ""
           }
          },
          "colorscale": {
           "diverging": [
            [
             0,
             "#8e0152"
            ],
            [
             0.1,
             "#c51b7d"
            ],
            [
             0.2,
             "#de77ae"
            ],
            [
             0.3,
             "#f1b6da"
            ],
            [
             0.4,
             "#fde0ef"
            ],
            [
             0.5,
             "#f7f7f7"
            ],
            [
             0.6,
             "#e6f5d0"
            ],
            [
             0.7,
             "#b8e186"
            ],
            [
             0.8,
             "#7fbc41"
            ],
            [
             0.9,
             "#4d9221"
            ],
            [
             1,
             "#276419"
            ]
           ],
           "sequential": [
            [
             0,
             "#0d0887"
            ],
            [
             0.1111111111111111,
             "#46039f"
            ],
            [
             0.2222222222222222,
             "#7201a8"
            ],
            [
             0.3333333333333333,
             "#9c179e"
            ],
            [
             0.4444444444444444,
             "#bd3786"
            ],
            [
             0.5555555555555556,
             "#d8576b"
            ],
            [
             0.6666666666666666,
             "#ed7953"
            ],
            [
             0.7777777777777778,
             "#fb9f3a"
            ],
            [
             0.8888888888888888,
             "#fdca26"
            ],
            [
             1,
             "#f0f921"
            ]
           ],
           "sequentialminus": [
            [
             0,
             "#0d0887"
            ],
            [
             0.1111111111111111,
             "#46039f"
            ],
            [
             0.2222222222222222,
             "#7201a8"
            ],
            [
             0.3333333333333333,
             "#9c179e"
            ],
            [
             0.4444444444444444,
             "#bd3786"
            ],
            [
             0.5555555555555556,
             "#d8576b"
            ],
            [
             0.6666666666666666,
             "#ed7953"
            ],
            [
             0.7777777777777778,
             "#fb9f3a"
            ],
            [
             0.8888888888888888,
             "#fdca26"
            ],
            [
             1,
             "#f0f921"
            ]
           ]
          },
          "colorway": [
           "#636efa",
           "#EF553B",
           "#00cc96",
           "#ab63fa",
           "#FFA15A",
           "#19d3f3",
           "#FF6692",
           "#B6E880",
           "#FF97FF",
           "#FECB52"
          ],
          "font": {
           "color": "#2a3f5f"
          },
          "geo": {
           "bgcolor": "white",
           "lakecolor": "white",
           "landcolor": "#E5ECF6",
           "showlakes": true,
           "showland": true,
           "subunitcolor": "white"
          },
          "hoverlabel": {
           "align": "left"
          },
          "hovermode": "closest",
          "mapbox": {
           "style": "light"
          },
          "paper_bgcolor": "white",
          "plot_bgcolor": "#E5ECF6",
          "polar": {
           "angularaxis": {
            "gridcolor": "white",
            "linecolor": "white",
            "ticks": ""
           },
           "bgcolor": "#E5ECF6",
           "radialaxis": {
            "gridcolor": "white",
            "linecolor": "white",
            "ticks": ""
           }
          },
          "scene": {
           "xaxis": {
            "backgroundcolor": "#E5ECF6",
            "gridcolor": "white",
            "gridwidth": 2,
            "linecolor": "white",
            "showbackground": true,
            "ticks": "",
            "zerolinecolor": "white"
           },
           "yaxis": {
            "backgroundcolor": "#E5ECF6",
            "gridcolor": "white",
            "gridwidth": 2,
            "linecolor": "white",
            "showbackground": true,
            "ticks": "",
            "zerolinecolor": "white"
           },
           "zaxis": {
            "backgroundcolor": "#E5ECF6",
            "gridcolor": "white",
            "gridwidth": 2,
            "linecolor": "white",
            "showbackground": true,
            "ticks": "",
            "zerolinecolor": "white"
           }
          },
          "shapedefaults": {
           "line": {
            "color": "#2a3f5f"
           }
          },
          "ternary": {
           "aaxis": {
            "gridcolor": "white",
            "linecolor": "white",
            "ticks": ""
           },
           "baxis": {
            "gridcolor": "white",
            "linecolor": "white",
            "ticks": ""
           },
           "bgcolor": "#E5ECF6",
           "caxis": {
            "gridcolor": "white",
            "linecolor": "white",
            "ticks": ""
           }
          },
          "title": {
           "x": 0.05
          },
          "xaxis": {
           "automargin": true,
           "gridcolor": "white",
           "linecolor": "white",
           "ticks": "",
           "title": {
            "standoff": 15
           },
           "zerolinecolor": "white",
           "zerolinewidth": 2
          },
          "yaxis": {
           "automargin": true,
           "gridcolor": "white",
           "linecolor": "white",
           "ticks": "",
           "title": {
            "standoff": 15
           },
           "zerolinecolor": "white",
           "zerolinewidth": 2
          }
         }
        },
        "title": {
         "text": "Top 10 Items with Maximum Purchases"
        },
        "xaxis": {
         "anchor": "y",
         "domain": [
          0,
          1
         ],
         "tickangle": -45,
         "title": {
          "text": "Item ID"
         }
        },
        "yaxis": {
         "anchor": "x",
         "domain": [
          0,
          1
         ],
         "title": {
          "text": "Count"
         }
        }
       }
      }
     },
     "metadata": {},
     "output_type": "display_data"
    },
    {
     "data": {
      "application/vnd.plotly.v1+json": {
       "config": {
        "plotlyServerURL": "https://plot.ly"
       },
       "data": [
        {
         "hovertemplate": "Item ID=%{x}<br>Total Quantity=%{y}<extra></extra>",
         "legendgroup": "",
         "marker": {
          "color": "#636efa",
          "pattern": {
           "shape": ""
          }
         },
         "name": "",
         "orientation": "v",
         "showlegend": false,
         "textposition": "auto",
         "type": "bar",
         "x": [
          "214853420",
          "214821277",
          "214853102",
          "214850947",
          "214821305",
          "214850949",
          "214854785",
          "214821290",
          "214853094",
          "214821302"
         ],
         "xaxis": "x",
         "y": {
          "bdata": "8icqIVMdYhg7Fb4QvhAADwUOLA0=",
          "dtype": "i2"
         },
         "yaxis": "y"
        }
       ],
       "layout": {
        "barmode": "relative",
        "legend": {
         "tracegroupgap": 0
        },
        "template": {
         "data": {
          "bar": [
           {
            "error_x": {
             "color": "#2a3f5f"
            },
            "error_y": {
             "color": "#2a3f5f"
            },
            "marker": {
             "line": {
              "color": "#E5ECF6",
              "width": 0.5
             },
             "pattern": {
              "fillmode": "overlay",
              "size": 10,
              "solidity": 0.2
             }
            },
            "type": "bar"
           }
          ],
          "barpolar": [
           {
            "marker": {
             "line": {
              "color": "#E5ECF6",
              "width": 0.5
             },
             "pattern": {
              "fillmode": "overlay",
              "size": 10,
              "solidity": 0.2
             }
            },
            "type": "barpolar"
           }
          ],
          "carpet": [
           {
            "aaxis": {
             "endlinecolor": "#2a3f5f",
             "gridcolor": "white",
             "linecolor": "white",
             "minorgridcolor": "white",
             "startlinecolor": "#2a3f5f"
            },
            "baxis": {
             "endlinecolor": "#2a3f5f",
             "gridcolor": "white",
             "linecolor": "white",
             "minorgridcolor": "white",
             "startlinecolor": "#2a3f5f"
            },
            "type": "carpet"
           }
          ],
          "choropleth": [
           {
            "colorbar": {
             "outlinewidth": 0,
             "ticks": ""
            },
            "type": "choropleth"
           }
          ],
          "contour": [
           {
            "colorbar": {
             "outlinewidth": 0,
             "ticks": ""
            },
            "colorscale": [
             [
              0,
              "#0d0887"
             ],
             [
              0.1111111111111111,
              "#46039f"
             ],
             [
              0.2222222222222222,
              "#7201a8"
             ],
             [
              0.3333333333333333,
              "#9c179e"
             ],
             [
              0.4444444444444444,
              "#bd3786"
             ],
             [
              0.5555555555555556,
              "#d8576b"
             ],
             [
              0.6666666666666666,
              "#ed7953"
             ],
             [
              0.7777777777777778,
              "#fb9f3a"
             ],
             [
              0.8888888888888888,
              "#fdca26"
             ],
             [
              1,
              "#f0f921"
             ]
            ],
            "type": "contour"
           }
          ],
          "contourcarpet": [
           {
            "colorbar": {
             "outlinewidth": 0,
             "ticks": ""
            },
            "type": "contourcarpet"
           }
          ],
          "heatmap": [
           {
            "colorbar": {
             "outlinewidth": 0,
             "ticks": ""
            },
            "colorscale": [
             [
              0,
              "#0d0887"
             ],
             [
              0.1111111111111111,
              "#46039f"
             ],
             [
              0.2222222222222222,
              "#7201a8"
             ],
             [
              0.3333333333333333,
              "#9c179e"
             ],
             [
              0.4444444444444444,
              "#bd3786"
             ],
             [
              0.5555555555555556,
              "#d8576b"
             ],
             [
              0.6666666666666666,
              "#ed7953"
             ],
             [
              0.7777777777777778,
              "#fb9f3a"
             ],
             [
              0.8888888888888888,
              "#fdca26"
             ],
             [
              1,
              "#f0f921"
             ]
            ],
            "type": "heatmap"
           }
          ],
          "histogram": [
           {
            "marker": {
             "pattern": {
              "fillmode": "overlay",
              "size": 10,
              "solidity": 0.2
             }
            },
            "type": "histogram"
           }
          ],
          "histogram2d": [
           {
            "colorbar": {
             "outlinewidth": 0,
             "ticks": ""
            },
            "colorscale": [
             [
              0,
              "#0d0887"
             ],
             [
              0.1111111111111111,
              "#46039f"
             ],
             [
              0.2222222222222222,
              "#7201a8"
             ],
             [
              0.3333333333333333,
              "#9c179e"
             ],
             [
              0.4444444444444444,
              "#bd3786"
             ],
             [
              0.5555555555555556,
              "#d8576b"
             ],
             [
              0.6666666666666666,
              "#ed7953"
             ],
             [
              0.7777777777777778,
              "#fb9f3a"
             ],
             [
              0.8888888888888888,
              "#fdca26"
             ],
             [
              1,
              "#f0f921"
             ]
            ],
            "type": "histogram2d"
           }
          ],
          "histogram2dcontour": [
           {
            "colorbar": {
             "outlinewidth": 0,
             "ticks": ""
            },
            "colorscale": [
             [
              0,
              "#0d0887"
             ],
             [
              0.1111111111111111,
              "#46039f"
             ],
             [
              0.2222222222222222,
              "#7201a8"
             ],
             [
              0.3333333333333333,
              "#9c179e"
             ],
             [
              0.4444444444444444,
              "#bd3786"
             ],
             [
              0.5555555555555556,
              "#d8576b"
             ],
             [
              0.6666666666666666,
              "#ed7953"
             ],
             [
              0.7777777777777778,
              "#fb9f3a"
             ],
             [
              0.8888888888888888,
              "#fdca26"
             ],
             [
              1,
              "#f0f921"
             ]
            ],
            "type": "histogram2dcontour"
           }
          ],
          "mesh3d": [
           {
            "colorbar": {
             "outlinewidth": 0,
             "ticks": ""
            },
            "type": "mesh3d"
           }
          ],
          "parcoords": [
           {
            "line": {
             "colorbar": {
              "outlinewidth": 0,
              "ticks": ""
             }
            },
            "type": "parcoords"
           }
          ],
          "pie": [
           {
            "automargin": true,
            "type": "pie"
           }
          ],
          "scatter": [
           {
            "fillpattern": {
             "fillmode": "overlay",
             "size": 10,
             "solidity": 0.2
            },
            "type": "scatter"
           }
          ],
          "scatter3d": [
           {
            "line": {
             "colorbar": {
              "outlinewidth": 0,
              "ticks": ""
             }
            },
            "marker": {
             "colorbar": {
              "outlinewidth": 0,
              "ticks": ""
             }
            },
            "type": "scatter3d"
           }
          ],
          "scattercarpet": [
           {
            "marker": {
             "colorbar": {
              "outlinewidth": 0,
              "ticks": ""
             }
            },
            "type": "scattercarpet"
           }
          ],
          "scattergeo": [
           {
            "marker": {
             "colorbar": {
              "outlinewidth": 0,
              "ticks": ""
             }
            },
            "type": "scattergeo"
           }
          ],
          "scattergl": [
           {
            "marker": {
             "colorbar": {
              "outlinewidth": 0,
              "ticks": ""
             }
            },
            "type": "scattergl"
           }
          ],
          "scattermap": [
           {
            "marker": {
             "colorbar": {
              "outlinewidth": 0,
              "ticks": ""
             }
            },
            "type": "scattermap"
           }
          ],
          "scattermapbox": [
           {
            "marker": {
             "colorbar": {
              "outlinewidth": 0,
              "ticks": ""
             }
            },
            "type": "scattermapbox"
           }
          ],
          "scatterpolar": [
           {
            "marker": {
             "colorbar": {
              "outlinewidth": 0,
              "ticks": ""
             }
            },
            "type": "scatterpolar"
           }
          ],
          "scatterpolargl": [
           {
            "marker": {
             "colorbar": {
              "outlinewidth": 0,
              "ticks": ""
             }
            },
            "type": "scatterpolargl"
           }
          ],
          "scatterternary": [
           {
            "marker": {
             "colorbar": {
              "outlinewidth": 0,
              "ticks": ""
             }
            },
            "type": "scatterternary"
           }
          ],
          "surface": [
           {
            "colorbar": {
             "outlinewidth": 0,
             "ticks": ""
            },
            "colorscale": [
             [
              0,
              "#0d0887"
             ],
             [
              0.1111111111111111,
              "#46039f"
             ],
             [
              0.2222222222222222,
              "#7201a8"
             ],
             [
              0.3333333333333333,
              "#9c179e"
             ],
             [
              0.4444444444444444,
              "#bd3786"
             ],
             [
              0.5555555555555556,
              "#d8576b"
             ],
             [
              0.6666666666666666,
              "#ed7953"
             ],
             [
              0.7777777777777778,
              "#fb9f3a"
             ],
             [
              0.8888888888888888,
              "#fdca26"
             ],
             [
              1,
              "#f0f921"
             ]
            ],
            "type": "surface"
           }
          ],
          "table": [
           {
            "cells": {
             "fill": {
              "color": "#EBF0F8"
             },
             "line": {
              "color": "white"
             }
            },
            "header": {
             "fill": {
              "color": "#C8D4E3"
             },
             "line": {
              "color": "white"
             }
            },
            "type": "table"
           }
          ]
         },
         "layout": {
          "annotationdefaults": {
           "arrowcolor": "#2a3f5f",
           "arrowhead": 0,
           "arrowwidth": 1
          },
          "autotypenumbers": "strict",
          "coloraxis": {
           "colorbar": {
            "outlinewidth": 0,
            "ticks": ""
           }
          },
          "colorscale": {
           "diverging": [
            [
             0,
             "#8e0152"
            ],
            [
             0.1,
             "#c51b7d"
            ],
            [
             0.2,
             "#de77ae"
            ],
            [
             0.3,
             "#f1b6da"
            ],
            [
             0.4,
             "#fde0ef"
            ],
            [
             0.5,
             "#f7f7f7"
            ],
            [
             0.6,
             "#e6f5d0"
            ],
            [
             0.7,
             "#b8e186"
            ],
            [
             0.8,
             "#7fbc41"
            ],
            [
             0.9,
             "#4d9221"
            ],
            [
             1,
             "#276419"
            ]
           ],
           "sequential": [
            [
             0,
             "#0d0887"
            ],
            [
             0.1111111111111111,
             "#46039f"
            ],
            [
             0.2222222222222222,
             "#7201a8"
            ],
            [
             0.3333333333333333,
             "#9c179e"
            ],
            [
             0.4444444444444444,
             "#bd3786"
            ],
            [
             0.5555555555555556,
             "#d8576b"
            ],
            [
             0.6666666666666666,
             "#ed7953"
            ],
            [
             0.7777777777777778,
             "#fb9f3a"
            ],
            [
             0.8888888888888888,
             "#fdca26"
            ],
            [
             1,
             "#f0f921"
            ]
           ],
           "sequentialminus": [
            [
             0,
             "#0d0887"
            ],
            [
             0.1111111111111111,
             "#46039f"
            ],
            [
             0.2222222222222222,
             "#7201a8"
            ],
            [
             0.3333333333333333,
             "#9c179e"
            ],
            [
             0.4444444444444444,
             "#bd3786"
            ],
            [
             0.5555555555555556,
             "#d8576b"
            ],
            [
             0.6666666666666666,
             "#ed7953"
            ],
            [
             0.7777777777777778,
             "#fb9f3a"
            ],
            [
             0.8888888888888888,
             "#fdca26"
            ],
            [
             1,
             "#f0f921"
            ]
           ]
          },
          "colorway": [
           "#636efa",
           "#EF553B",
           "#00cc96",
           "#ab63fa",
           "#FFA15A",
           "#19d3f3",
           "#FF6692",
           "#B6E880",
           "#FF97FF",
           "#FECB52"
          ],
          "font": {
           "color": "#2a3f5f"
          },
          "geo": {
           "bgcolor": "white",
           "lakecolor": "white",
           "landcolor": "#E5ECF6",
           "showlakes": true,
           "showland": true,
           "subunitcolor": "white"
          },
          "hoverlabel": {
           "align": "left"
          },
          "hovermode": "closest",
          "mapbox": {
           "style": "light"
          },
          "paper_bgcolor": "white",
          "plot_bgcolor": "#E5ECF6",
          "polar": {
           "angularaxis": {
            "gridcolor": "white",
            "linecolor": "white",
            "ticks": ""
           },
           "bgcolor": "#E5ECF6",
           "radialaxis": {
            "gridcolor": "white",
            "linecolor": "white",
            "ticks": ""
           }
          },
          "scene": {
           "xaxis": {
            "backgroundcolor": "#E5ECF6",
            "gridcolor": "white",
            "gridwidth": 2,
            "linecolor": "white",
            "showbackground": true,
            "ticks": "",
            "zerolinecolor": "white"
           },
           "yaxis": {
            "backgroundcolor": "#E5ECF6",
            "gridcolor": "white",
            "gridwidth": 2,
            "linecolor": "white",
            "showbackground": true,
            "ticks": "",
            "zerolinecolor": "white"
           },
           "zaxis": {
            "backgroundcolor": "#E5ECF6",
            "gridcolor": "white",
            "gridwidth": 2,
            "linecolor": "white",
            "showbackground": true,
            "ticks": "",
            "zerolinecolor": "white"
           }
          },
          "shapedefaults": {
           "line": {
            "color": "#2a3f5f"
           }
          },
          "ternary": {
           "aaxis": {
            "gridcolor": "white",
            "linecolor": "white",
            "ticks": ""
           },
           "baxis": {
            "gridcolor": "white",
            "linecolor": "white",
            "ticks": ""
           },
           "bgcolor": "#E5ECF6",
           "caxis": {
            "gridcolor": "white",
            "linecolor": "white",
            "ticks": ""
           }
          },
          "title": {
           "x": 0.05
          },
          "xaxis": {
           "automargin": true,
           "gridcolor": "white",
           "linecolor": "white",
           "ticks": "",
           "title": {
            "standoff": 15
           },
           "zerolinecolor": "white",
           "zerolinewidth": 2
          },
          "yaxis": {
           "automargin": true,
           "gridcolor": "white",
           "linecolor": "white",
           "ticks": "",
           "title": {
            "standoff": 15
           },
           "zerolinecolor": "white",
           "zerolinewidth": 2
          }
         }
        },
        "title": {
         "text": "Top 10 Items Purchased in Larger Quantities"
        },
        "xaxis": {
         "anchor": "y",
         "domain": [
          0,
          1
         ],
         "tickangle": -45,
         "title": {
          "text": "Item ID"
         }
        },
        "yaxis": {
         "anchor": "x",
         "domain": [
          0,
          1
         ],
         "title": {
          "text": "Total Quantity"
         }
        }
       }
      }
     },
     "metadata": {},
     "output_type": "display_data"
    },
    {
     "data": {
      "application/vnd.plotly.v1+json": {
       "config": {
        "plotlyServerURL": "https://plot.ly"
       },
       "data": [
        {
         "hovertemplate": "Item ID=%{x}<br>Price=%{y}<extra></extra>",
         "legendgroup": "",
         "marker": {
          "color": "#636efa",
          "pattern": {
           "shape": ""
          }
         },
         "name": "",
         "orientation": "v",
         "showlegend": false,
         "textposition": "auto",
         "type": "bar",
         "x": [
          "214712049",
          "214600929",
          "214587935",
          "214587935",
          "214587937",
          "214835345",
          "214537766",
          "214509260",
          "214696089",
          "214700499"
         ],
         "xaxis": "x",
         "y": {
          "bdata": "lhwFAPd4BACbDgQAP/4DAG+sAwBApAMAh4MDACtGAwC3MQMAtzEDAA==",
          "dtype": "i4"
         },
         "yaxis": "y"
        }
       ],
       "layout": {
        "barmode": "relative",
        "legend": {
         "tracegroupgap": 0
        },
        "template": {
         "data": {
          "bar": [
           {
            "error_x": {
             "color": "#2a3f5f"
            },
            "error_y": {
             "color": "#2a3f5f"
            },
            "marker": {
             "line": {
              "color": "#E5ECF6",
              "width": 0.5
             },
             "pattern": {
              "fillmode": "overlay",
              "size": 10,
              "solidity": 0.2
             }
            },
            "type": "bar"
           }
          ],
          "barpolar": [
           {
            "marker": {
             "line": {
              "color": "#E5ECF6",
              "width": 0.5
             },
             "pattern": {
              "fillmode": "overlay",
              "size": 10,
              "solidity": 0.2
             }
            },
            "type": "barpolar"
           }
          ],
          "carpet": [
           {
            "aaxis": {
             "endlinecolor": "#2a3f5f",
             "gridcolor": "white",
             "linecolor": "white",
             "minorgridcolor": "white",
             "startlinecolor": "#2a3f5f"
            },
            "baxis": {
             "endlinecolor": "#2a3f5f",
             "gridcolor": "white",
             "linecolor": "white",
             "minorgridcolor": "white",
             "startlinecolor": "#2a3f5f"
            },
            "type": "carpet"
           }
          ],
          "choropleth": [
           {
            "colorbar": {
             "outlinewidth": 0,
             "ticks": ""
            },
            "type": "choropleth"
           }
          ],
          "contour": [
           {
            "colorbar": {
             "outlinewidth": 0,
             "ticks": ""
            },
            "colorscale": [
             [
              0,
              "#0d0887"
             ],
             [
              0.1111111111111111,
              "#46039f"
             ],
             [
              0.2222222222222222,
              "#7201a8"
             ],
             [
              0.3333333333333333,
              "#9c179e"
             ],
             [
              0.4444444444444444,
              "#bd3786"
             ],
             [
              0.5555555555555556,
              "#d8576b"
             ],
             [
              0.6666666666666666,
              "#ed7953"
             ],
             [
              0.7777777777777778,
              "#fb9f3a"
             ],
             [
              0.8888888888888888,
              "#fdca26"
             ],
             [
              1,
              "#f0f921"
             ]
            ],
            "type": "contour"
           }
          ],
          "contourcarpet": [
           {
            "colorbar": {
             "outlinewidth": 0,
             "ticks": ""
            },
            "type": "contourcarpet"
           }
          ],
          "heatmap": [
           {
            "colorbar": {
             "outlinewidth": 0,
             "ticks": ""
            },
            "colorscale": [
             [
              0,
              "#0d0887"
             ],
             [
              0.1111111111111111,
              "#46039f"
             ],
             [
              0.2222222222222222,
              "#7201a8"
             ],
             [
              0.3333333333333333,
              "#9c179e"
             ],
             [
              0.4444444444444444,
              "#bd3786"
             ],
             [
              0.5555555555555556,
              "#d8576b"
             ],
             [
              0.6666666666666666,
              "#ed7953"
             ],
             [
              0.7777777777777778,
              "#fb9f3a"
             ],
             [
              0.8888888888888888,
              "#fdca26"
             ],
             [
              1,
              "#f0f921"
             ]
            ],
            "type": "heatmap"
           }
          ],
          "histogram": [
           {
            "marker": {
             "pattern": {
              "fillmode": "overlay",
              "size": 10,
              "solidity": 0.2
             }
            },
            "type": "histogram"
           }
          ],
          "histogram2d": [
           {
            "colorbar": {
             "outlinewidth": 0,
             "ticks": ""
            },
            "colorscale": [
             [
              0,
              "#0d0887"
             ],
             [
              0.1111111111111111,
              "#46039f"
             ],
             [
              0.2222222222222222,
              "#7201a8"
             ],
             [
              0.3333333333333333,
              "#9c179e"
             ],
             [
              0.4444444444444444,
              "#bd3786"
             ],
             [
              0.5555555555555556,
              "#d8576b"
             ],
             [
              0.6666666666666666,
              "#ed7953"
             ],
             [
              0.7777777777777778,
              "#fb9f3a"
             ],
             [
              0.8888888888888888,
              "#fdca26"
             ],
             [
              1,
              "#f0f921"
             ]
            ],
            "type": "histogram2d"
           }
          ],
          "histogram2dcontour": [
           {
            "colorbar": {
             "outlinewidth": 0,
             "ticks": ""
            },
            "colorscale": [
             [
              0,
              "#0d0887"
             ],
             [
              0.1111111111111111,
              "#46039f"
             ],
             [
              0.2222222222222222,
              "#7201a8"
             ],
             [
              0.3333333333333333,
              "#9c179e"
             ],
             [
              0.4444444444444444,
              "#bd3786"
             ],
             [
              0.5555555555555556,
              "#d8576b"
             ],
             [
              0.6666666666666666,
              "#ed7953"
             ],
             [
              0.7777777777777778,
              "#fb9f3a"
             ],
             [
              0.8888888888888888,
              "#fdca26"
             ],
             [
              1,
              "#f0f921"
             ]
            ],
            "type": "histogram2dcontour"
           }
          ],
          "mesh3d": [
           {
            "colorbar": {
             "outlinewidth": 0,
             "ticks": ""
            },
            "type": "mesh3d"
           }
          ],
          "parcoords": [
           {
            "line": {
             "colorbar": {
              "outlinewidth": 0,
              "ticks": ""
             }
            },
            "type": "parcoords"
           }
          ],
          "pie": [
           {
            "automargin": true,
            "type": "pie"
           }
          ],
          "scatter": [
           {
            "fillpattern": {
             "fillmode": "overlay",
             "size": 10,
             "solidity": 0.2
            },
            "type": "scatter"
           }
          ],
          "scatter3d": [
           {
            "line": {
             "colorbar": {
              "outlinewidth": 0,
              "ticks": ""
             }
            },
            "marker": {
             "colorbar": {
              "outlinewidth": 0,
              "ticks": ""
             }
            },
            "type": "scatter3d"
           }
          ],
          "scattercarpet": [
           {
            "marker": {
             "colorbar": {
              "outlinewidth": 0,
              "ticks": ""
             }
            },
            "type": "scattercarpet"
           }
          ],
          "scattergeo": [
           {
            "marker": {
             "colorbar": {
              "outlinewidth": 0,
              "ticks": ""
             }
            },
            "type": "scattergeo"
           }
          ],
          "scattergl": [
           {
            "marker": {
             "colorbar": {
              "outlinewidth": 0,
              "ticks": ""
             }
            },
            "type": "scattergl"
           }
          ],
          "scattermap": [
           {
            "marker": {
             "colorbar": {
              "outlinewidth": 0,
              "ticks": ""
             }
            },
            "type": "scattermap"
           }
          ],
          "scattermapbox": [
           {
            "marker": {
             "colorbar": {
              "outlinewidth": 0,
              "ticks": ""
             }
            },
            "type": "scattermapbox"
           }
          ],
          "scatterpolar": [
           {
            "marker": {
             "colorbar": {
              "outlinewidth": 0,
              "ticks": ""
             }
            },
            "type": "scatterpolar"
           }
          ],
          "scatterpolargl": [
           {
            "marker": {
             "colorbar": {
              "outlinewidth": 0,
              "ticks": ""
             }
            },
            "type": "scatterpolargl"
           }
          ],
          "scatterternary": [
           {
            "marker": {
             "colorbar": {
              "outlinewidth": 0,
              "ticks": ""
             }
            },
            "type": "scatterternary"
           }
          ],
          "surface": [
           {
            "colorbar": {
             "outlinewidth": 0,
             "ticks": ""
            },
            "colorscale": [
             [
              0,
              "#0d0887"
             ],
             [
              0.1111111111111111,
              "#46039f"
             ],
             [
              0.2222222222222222,
              "#7201a8"
             ],
             [
              0.3333333333333333,
              "#9c179e"
             ],
             [
              0.4444444444444444,
              "#bd3786"
             ],
             [
              0.5555555555555556,
              "#d8576b"
             ],
             [
              0.6666666666666666,
              "#ed7953"
             ],
             [
              0.7777777777777778,
              "#fb9f3a"
             ],
             [
              0.8888888888888888,
              "#fdca26"
             ],
             [
              1,
              "#f0f921"
             ]
            ],
            "type": "surface"
           }
          ],
          "table": [
           {
            "cells": {
             "fill": {
              "color": "#EBF0F8"
             },
             "line": {
              "color": "white"
             }
            },
            "header": {
             "fill": {
              "color": "#C8D4E3"
             },
             "line": {
              "color": "white"
             }
            },
            "type": "table"
           }
          ]
         },
         "layout": {
          "annotationdefaults": {
           "arrowcolor": "#2a3f5f",
           "arrowhead": 0,
           "arrowwidth": 1
          },
          "autotypenumbers": "strict",
          "coloraxis": {
           "colorbar": {
            "outlinewidth": 0,
            "ticks": ""
           }
          },
          "colorscale": {
           "diverging": [
            [
             0,
             "#8e0152"
            ],
            [
             0.1,
             "#c51b7d"
            ],
            [
             0.2,
             "#de77ae"
            ],
            [
             0.3,
             "#f1b6da"
            ],
            [
             0.4,
             "#fde0ef"
            ],
            [
             0.5,
             "#f7f7f7"
            ],
            [
             0.6,
             "#e6f5d0"
            ],
            [
             0.7,
             "#b8e186"
            ],
            [
             0.8,
             "#7fbc41"
            ],
            [
             0.9,
             "#4d9221"
            ],
            [
             1,
             "#276419"
            ]
           ],
           "sequential": [
            [
             0,
             "#0d0887"
            ],
            [
             0.1111111111111111,
             "#46039f"
            ],
            [
             0.2222222222222222,
             "#7201a8"
            ],
            [
             0.3333333333333333,
             "#9c179e"
            ],
            [
             0.4444444444444444,
             "#bd3786"
            ],
            [
             0.5555555555555556,
             "#d8576b"
            ],
            [
             0.6666666666666666,
             "#ed7953"
            ],
            [
             0.7777777777777778,
             "#fb9f3a"
            ],
            [
             0.8888888888888888,
             "#fdca26"
            ],
            [
             1,
             "#f0f921"
            ]
           ],
           "sequentialminus": [
            [
             0,
             "#0d0887"
            ],
            [
             0.1111111111111111,
             "#46039f"
            ],
            [
             0.2222222222222222,
             "#7201a8"
            ],
            [
             0.3333333333333333,
             "#9c179e"
            ],
            [
             0.4444444444444444,
             "#bd3786"
            ],
            [
             0.5555555555555556,
             "#d8576b"
            ],
            [
             0.6666666666666666,
             "#ed7953"
            ],
            [
             0.7777777777777778,
             "#fb9f3a"
            ],
            [
             0.8888888888888888,
             "#fdca26"
            ],
            [
             1,
             "#f0f921"
            ]
           ]
          },
          "colorway": [
           "#636efa",
           "#EF553B",
           "#00cc96",
           "#ab63fa",
           "#FFA15A",
           "#19d3f3",
           "#FF6692",
           "#B6E880",
           "#FF97FF",
           "#FECB52"
          ],
          "font": {
           "color": "#2a3f5f"
          },
          "geo": {
           "bgcolor": "white",
           "lakecolor": "white",
           "landcolor": "#E5ECF6",
           "showlakes": true,
           "showland": true,
           "subunitcolor": "white"
          },
          "hoverlabel": {
           "align": "left"
          },
          "hovermode": "closest",
          "mapbox": {
           "style": "light"
          },
          "paper_bgcolor": "white",
          "plot_bgcolor": "#E5ECF6",
          "polar": {
           "angularaxis": {
            "gridcolor": "white",
            "linecolor": "white",
            "ticks": ""
           },
           "bgcolor": "#E5ECF6",
           "radialaxis": {
            "gridcolor": "white",
            "linecolor": "white",
            "ticks": ""
           }
          },
          "scene": {
           "xaxis": {
            "backgroundcolor": "#E5ECF6",
            "gridcolor": "white",
            "gridwidth": 2,
            "linecolor": "white",
            "showbackground": true,
            "ticks": "",
            "zerolinecolor": "white"
           },
           "yaxis": {
            "backgroundcolor": "#E5ECF6",
            "gridcolor": "white",
            "gridwidth": 2,
            "linecolor": "white",
            "showbackground": true,
            "ticks": "",
            "zerolinecolor": "white"
           },
           "zaxis": {
            "backgroundcolor": "#E5ECF6",
            "gridcolor": "white",
            "gridwidth": 2,
            "linecolor": "white",
            "showbackground": true,
            "ticks": "",
            "zerolinecolor": "white"
           }
          },
          "shapedefaults": {
           "line": {
            "color": "#2a3f5f"
           }
          },
          "ternary": {
           "aaxis": {
            "gridcolor": "white",
            "linecolor": "white",
            "ticks": ""
           },
           "baxis": {
            "gridcolor": "white",
            "linecolor": "white",
            "ticks": ""
           },
           "bgcolor": "#E5ECF6",
           "caxis": {
            "gridcolor": "white",
            "linecolor": "white",
            "ticks": ""
           }
          },
          "title": {
           "x": 0.05
          },
          "xaxis": {
           "automargin": true,
           "gridcolor": "white",
           "linecolor": "white",
           "ticks": "",
           "title": {
            "standoff": 15
           },
           "zerolinecolor": "white",
           "zerolinewidth": 2
          },
          "yaxis": {
           "automargin": true,
           "gridcolor": "white",
           "linecolor": "white",
           "ticks": "",
           "title": {
            "standoff": 15
           },
           "zerolinecolor": "white",
           "zerolinewidth": 2
          }
         }
        },
        "title": {
         "text": "Top 10 Items with Highest Prices"
        },
        "xaxis": {
         "anchor": "y",
         "domain": [
          0,
          1
         ],
         "tickangle": -45,
         "title": {
          "text": "Item ID"
         }
        },
        "yaxis": {
         "anchor": "x",
         "domain": [
          0,
          1
         ],
         "title": {
          "text": "Price"
         }
        }
       }
      }
     },
     "metadata": {},
     "output_type": "display_data"
    },
    {
     "name": "stdout",
     "output_type": "stream",
     "text": [
      "Transforming buys data...\n",
      "Buys transformation complete\n",
      "         Number_items_bought                unique_items_bought  is_buy\n",
      "session                                                                \n",
      "11                         2                        [214821371]       1\n",
      "12                         1                        [214717867]       1\n",
      "21                         2             [214548744, 214838503]       1\n",
      "33                         6  [214834865, 214706441, 214820225]       1\n",
      "46                         2                        [214716932]       1\n",
      "Processing clicks data in chunks (session timing analysis)...\n",
      "Processing chunk 1 for timing analysis...\n",
      "Processing chunk 2 for timing analysis...\n",
      "Stopping after 2 chunks (sample mode)\n",
      "Completed timing analysis of clicks data\n",
      "Processing clicks data in chunks (item analysis)...\n",
      "Processing chunk 1 for item analysis...\n",
      "Processing chunk 2 for item analysis...\n",
      "Stopping after 2 chunks (sample mode)\n",
      "Completed item analysis of clicks data\n",
      "Processing clicks data in chunks (sequence analysis)...\n",
      "Processing chunk 1 for sequence analysis...\n",
      "Processing chunk 2 for sequence analysis...\n",
      "Stopping after 2 chunks (sample mode)\n",
      "Completed sequence analysis of clicks data\n",
      "Processing clicks data in chunks (category analysis)...\n",
      "Processing chunk 1 for category analysis...\n",
      "Processing chunk 2 for category analysis...\n",
      "Stopping after 2 chunks (sample mode)\n",
      "Completed category analysis of clicks data\n",
      "Calculating item popularity from clicks...\n",
      "Processing chunk 1 for item popularity...\n",
      "Processing chunk 2 for item popularity...\n",
      "Processing chunk 3 for item popularity...\n",
      "Processing chunk 4 for item popularity...\n",
      "Processing chunk 5 for item popularity...\n",
      "Stopping popularity calculation after 4 chunks (sample mode)\n",
      "Calculating item popularity from buys...\n",
      "Combining all click information...\n",
      "Clicks combined data shape: (7898, 18)\n",
      "Merging click and buy information...\n",
      "Training data preparation complete\n",
      "Training data shape: (7898, 21)\n",
      "Performing exploratory analysis...\n"
     ]
    },
    {
     "data": {
      "application/vnd.plotly.v1+json": {
       "config": {
        "plotlyServerURL": "https://plot.ly"
       },
       "data": [
        {
         "type": "bar",
         "x": [
          "0",
          "1"
         ],
         "xaxis": "x",
         "y": {
          "bdata": "W6mVWqmV6j+WWqmVWqnFPw==",
          "dtype": "f8"
         },
         "yaxis": "y"
        },
        {
         "type": "bar",
         "x": [
          "0",
          "1"
         ],
         "xaxis": "x2",
         "y": {
          "bdata": "llqplVqp6T+plVqplVrJPw==",
          "dtype": "f8"
         },
         "yaxis": "y2"
        }
       ],
       "layout": {
        "annotations": [
         {
          "font": {
           "size": 16
          },
          "showarrow": false,
          "text": "Probability of First Clicked Item Being Purchased",
          "x": 0.225,
          "xanchor": "center",
          "xref": "paper",
          "y": 1,
          "yanchor": "bottom",
          "yref": "paper"
         },
         {
          "font": {
           "size": 16
          },
          "showarrow": false,
          "text": "Probability of Last Clicked Item Being Purchased",
          "x": 0.775,
          "xanchor": "center",
          "xref": "paper",
          "y": 1,
          "yanchor": "bottom",
          "yref": "paper"
         }
        ],
        "height": 500,
        "showlegend": false,
        "template": {
         "data": {
          "bar": [
           {
            "error_x": {
             "color": "#2a3f5f"
            },
            "error_y": {
             "color": "#2a3f5f"
            },
            "marker": {
             "line": {
              "color": "#E5ECF6",
              "width": 0.5
             },
             "pattern": {
              "fillmode": "overlay",
              "size": 10,
              "solidity": 0.2
             }
            },
            "type": "bar"
           }
          ],
          "barpolar": [
           {
            "marker": {
             "line": {
              "color": "#E5ECF6",
              "width": 0.5
             },
             "pattern": {
              "fillmode": "overlay",
              "size": 10,
              "solidity": 0.2
             }
            },
            "type": "barpolar"
           }
          ],
          "carpet": [
           {
            "aaxis": {
             "endlinecolor": "#2a3f5f",
             "gridcolor": "white",
             "linecolor": "white",
             "minorgridcolor": "white",
             "startlinecolor": "#2a3f5f"
            },
            "baxis": {
             "endlinecolor": "#2a3f5f",
             "gridcolor": "white",
             "linecolor": "white",
             "minorgridcolor": "white",
             "startlinecolor": "#2a3f5f"
            },
            "type": "carpet"
           }
          ],
          "choropleth": [
           {
            "colorbar": {
             "outlinewidth": 0,
             "ticks": ""
            },
            "type": "choropleth"
           }
          ],
          "contour": [
           {
            "colorbar": {
             "outlinewidth": 0,
             "ticks": ""
            },
            "colorscale": [
             [
              0,
              "#0d0887"
             ],
             [
              0.1111111111111111,
              "#46039f"
             ],
             [
              0.2222222222222222,
              "#7201a8"
             ],
             [
              0.3333333333333333,
              "#9c179e"
             ],
             [
              0.4444444444444444,
              "#bd3786"
             ],
             [
              0.5555555555555556,
              "#d8576b"
             ],
             [
              0.6666666666666666,
              "#ed7953"
             ],
             [
              0.7777777777777778,
              "#fb9f3a"
             ],
             [
              0.8888888888888888,
              "#fdca26"
             ],
             [
              1,
              "#f0f921"
             ]
            ],
            "type": "contour"
           }
          ],
          "contourcarpet": [
           {
            "colorbar": {
             "outlinewidth": 0,
             "ticks": ""
            },
            "type": "contourcarpet"
           }
          ],
          "heatmap": [
           {
            "colorbar": {
             "outlinewidth": 0,
             "ticks": ""
            },
            "colorscale": [
             [
              0,
              "#0d0887"
             ],
             [
              0.1111111111111111,
              "#46039f"
             ],
             [
              0.2222222222222222,
              "#7201a8"
             ],
             [
              0.3333333333333333,
              "#9c179e"
             ],
             [
              0.4444444444444444,
              "#bd3786"
             ],
             [
              0.5555555555555556,
              "#d8576b"
             ],
             [
              0.6666666666666666,
              "#ed7953"
             ],
             [
              0.7777777777777778,
              "#fb9f3a"
             ],
             [
              0.8888888888888888,
              "#fdca26"
             ],
             [
              1,
              "#f0f921"
             ]
            ],
            "type": "heatmap"
           }
          ],
          "histogram": [
           {
            "marker": {
             "pattern": {
              "fillmode": "overlay",
              "size": 10,
              "solidity": 0.2
             }
            },
            "type": "histogram"
           }
          ],
          "histogram2d": [
           {
            "colorbar": {
             "outlinewidth": 0,
             "ticks": ""
            },
            "colorscale": [
             [
              0,
              "#0d0887"
             ],
             [
              0.1111111111111111,
              "#46039f"
             ],
             [
              0.2222222222222222,
              "#7201a8"
             ],
             [
              0.3333333333333333,
              "#9c179e"
             ],
             [
              0.4444444444444444,
              "#bd3786"
             ],
             [
              0.5555555555555556,
              "#d8576b"
             ],
             [
              0.6666666666666666,
              "#ed7953"
             ],
             [
              0.7777777777777778,
              "#fb9f3a"
             ],
             [
              0.8888888888888888,
              "#fdca26"
             ],
             [
              1,
              "#f0f921"
             ]
            ],
            "type": "histogram2d"
           }
          ],
          "histogram2dcontour": [
           {
            "colorbar": {
             "outlinewidth": 0,
             "ticks": ""
            },
            "colorscale": [
             [
              0,
              "#0d0887"
             ],
             [
              0.1111111111111111,
              "#46039f"
             ],
             [
              0.2222222222222222,
              "#7201a8"
             ],
             [
              0.3333333333333333,
              "#9c179e"
             ],
             [
              0.4444444444444444,
              "#bd3786"
             ],
             [
              0.5555555555555556,
              "#d8576b"
             ],
             [
              0.6666666666666666,
              "#ed7953"
             ],
             [
              0.7777777777777778,
              "#fb9f3a"
             ],
             [
              0.8888888888888888,
              "#fdca26"
             ],
             [
              1,
              "#f0f921"
             ]
            ],
            "type": "histogram2dcontour"
           }
          ],
          "mesh3d": [
           {
            "colorbar": {
             "outlinewidth": 0,
             "ticks": ""
            },
            "type": "mesh3d"
           }
          ],
          "parcoords": [
           {
            "line": {
             "colorbar": {
              "outlinewidth": 0,
              "ticks": ""
             }
            },
            "type": "parcoords"
           }
          ],
          "pie": [
           {
            "automargin": true,
            "type": "pie"
           }
          ],
          "scatter": [
           {
            "fillpattern": {
             "fillmode": "overlay",
             "size": 10,
             "solidity": 0.2
            },
            "type": "scatter"
           }
          ],
          "scatter3d": [
           {
            "line": {
             "colorbar": {
              "outlinewidth": 0,
              "ticks": ""
             }
            },
            "marker": {
             "colorbar": {
              "outlinewidth": 0,
              "ticks": ""
             }
            },
            "type": "scatter3d"
           }
          ],
          "scattercarpet": [
           {
            "marker": {
             "colorbar": {
              "outlinewidth": 0,
              "ticks": ""
             }
            },
            "type": "scattercarpet"
           }
          ],
          "scattergeo": [
           {
            "marker": {
             "colorbar": {
              "outlinewidth": 0,
              "ticks": ""
             }
            },
            "type": "scattergeo"
           }
          ],
          "scattergl": [
           {
            "marker": {
             "colorbar": {
              "outlinewidth": 0,
              "ticks": ""
             }
            },
            "type": "scattergl"
           }
          ],
          "scattermap": [
           {
            "marker": {
             "colorbar": {
              "outlinewidth": 0,
              "ticks": ""
             }
            },
            "type": "scattermap"
           }
          ],
          "scattermapbox": [
           {
            "marker": {
             "colorbar": {
              "outlinewidth": 0,
              "ticks": ""
             }
            },
            "type": "scattermapbox"
           }
          ],
          "scatterpolar": [
           {
            "marker": {
             "colorbar": {
              "outlinewidth": 0,
              "ticks": ""
             }
            },
            "type": "scatterpolar"
           }
          ],
          "scatterpolargl": [
           {
            "marker": {
             "colorbar": {
              "outlinewidth": 0,
              "ticks": ""
             }
            },
            "type": "scatterpolargl"
           }
          ],
          "scatterternary": [
           {
            "marker": {
             "colorbar": {
              "outlinewidth": 0,
              "ticks": ""
             }
            },
            "type": "scatterternary"
           }
          ],
          "surface": [
           {
            "colorbar": {
             "outlinewidth": 0,
             "ticks": ""
            },
            "colorscale": [
             [
              0,
              "#0d0887"
             ],
             [
              0.1111111111111111,
              "#46039f"
             ],
             [
              0.2222222222222222,
              "#7201a8"
             ],
             [
              0.3333333333333333,
              "#9c179e"
             ],
             [
              0.4444444444444444,
              "#bd3786"
             ],
             [
              0.5555555555555556,
              "#d8576b"
             ],
             [
              0.6666666666666666,
              "#ed7953"
             ],
             [
              0.7777777777777778,
              "#fb9f3a"
             ],
             [
              0.8888888888888888,
              "#fdca26"
             ],
             [
              1,
              "#f0f921"
             ]
            ],
            "type": "surface"
           }
          ],
          "table": [
           {
            "cells": {
             "fill": {
              "color": "#EBF0F8"
             },
             "line": {
              "color": "white"
             }
            },
            "header": {
             "fill": {
              "color": "#C8D4E3"
             },
             "line": {
              "color": "white"
             }
            },
            "type": "table"
           }
          ]
         },
         "layout": {
          "annotationdefaults": {
           "arrowcolor": "#2a3f5f",
           "arrowhead": 0,
           "arrowwidth": 1
          },
          "autotypenumbers": "strict",
          "coloraxis": {
           "colorbar": {
            "outlinewidth": 0,
            "ticks": ""
           }
          },
          "colorscale": {
           "diverging": [
            [
             0,
             "#8e0152"
            ],
            [
             0.1,
             "#c51b7d"
            ],
            [
             0.2,
             "#de77ae"
            ],
            [
             0.3,
             "#f1b6da"
            ],
            [
             0.4,
             "#fde0ef"
            ],
            [
             0.5,
             "#f7f7f7"
            ],
            [
             0.6,
             "#e6f5d0"
            ],
            [
             0.7,
             "#b8e186"
            ],
            [
             0.8,
             "#7fbc41"
            ],
            [
             0.9,
             "#4d9221"
            ],
            [
             1,
             "#276419"
            ]
           ],
           "sequential": [
            [
             0,
             "#0d0887"
            ],
            [
             0.1111111111111111,
             "#46039f"
            ],
            [
             0.2222222222222222,
             "#7201a8"
            ],
            [
             0.3333333333333333,
             "#9c179e"
            ],
            [
             0.4444444444444444,
             "#bd3786"
            ],
            [
             0.5555555555555556,
             "#d8576b"
            ],
            [
             0.6666666666666666,
             "#ed7953"
            ],
            [
             0.7777777777777778,
             "#fb9f3a"
            ],
            [
             0.8888888888888888,
             "#fdca26"
            ],
            [
             1,
             "#f0f921"
            ]
           ],
           "sequentialminus": [
            [
             0,
             "#0d0887"
            ],
            [
             0.1111111111111111,
             "#46039f"
            ],
            [
             0.2222222222222222,
             "#7201a8"
            ],
            [
             0.3333333333333333,
             "#9c179e"
            ],
            [
             0.4444444444444444,
             "#bd3786"
            ],
            [
             0.5555555555555556,
             "#d8576b"
            ],
            [
             0.6666666666666666,
             "#ed7953"
            ],
            [
             0.7777777777777778,
             "#fb9f3a"
            ],
            [
             0.8888888888888888,
             "#fdca26"
            ],
            [
             1,
             "#f0f921"
            ]
           ]
          },
          "colorway": [
           "#636efa",
           "#EF553B",
           "#00cc96",
           "#ab63fa",
           "#FFA15A",
           "#19d3f3",
           "#FF6692",
           "#B6E880",
           "#FF97FF",
           "#FECB52"
          ],
          "font": {
           "color": "#2a3f5f"
          },
          "geo": {
           "bgcolor": "white",
           "lakecolor": "white",
           "landcolor": "#E5ECF6",
           "showlakes": true,
           "showland": true,
           "subunitcolor": "white"
          },
          "hoverlabel": {
           "align": "left"
          },
          "hovermode": "closest",
          "mapbox": {
           "style": "light"
          },
          "paper_bgcolor": "white",
          "plot_bgcolor": "#E5ECF6",
          "polar": {
           "angularaxis": {
            "gridcolor": "white",
            "linecolor": "white",
            "ticks": ""
           },
           "bgcolor": "#E5ECF6",
           "radialaxis": {
            "gridcolor": "white",
            "linecolor": "white",
            "ticks": ""
           }
          },
          "scene": {
           "xaxis": {
            "backgroundcolor": "#E5ECF6",
            "gridcolor": "white",
            "gridwidth": 2,
            "linecolor": "white",
            "showbackground": true,
            "ticks": "",
            "zerolinecolor": "white"
           },
           "yaxis": {
            "backgroundcolor": "#E5ECF6",
            "gridcolor": "white",
            "gridwidth": 2,
            "linecolor": "white",
            "showbackground": true,
            "ticks": "",
            "zerolinecolor": "white"
           },
           "zaxis": {
            "backgroundcolor": "#E5ECF6",
            "gridcolor": "white",
            "gridwidth": 2,
            "linecolor": "white",
            "showbackground": true,
            "ticks": "",
            "zerolinecolor": "white"
           }
          },
          "shapedefaults": {
           "line": {
            "color": "#2a3f5f"
           }
          },
          "ternary": {
           "aaxis": {
            "gridcolor": "white",
            "linecolor": "white",
            "ticks": ""
           },
           "baxis": {
            "gridcolor": "white",
            "linecolor": "white",
            "ticks": ""
           },
           "bgcolor": "#E5ECF6",
           "caxis": {
            "gridcolor": "white",
            "linecolor": "white",
            "ticks": ""
           }
          },
          "title": {
           "x": 0.05
          },
          "xaxis": {
           "automargin": true,
           "gridcolor": "white",
           "linecolor": "white",
           "ticks": "",
           "title": {
            "standoff": 15
           },
           "zerolinecolor": "white",
           "zerolinewidth": 2
          },
          "yaxis": {
           "automargin": true,
           "gridcolor": "white",
           "linecolor": "white",
           "ticks": "",
           "title": {
            "standoff": 15
           },
           "zerolinecolor": "white",
           "zerolinewidth": 2
          }
         }
        },
        "width": 900,
        "xaxis": {
         "anchor": "y",
         "domain": [
          0,
          0.45
         ],
         "title": {
          "text": "First Clicked Item Purchased"
         }
        },
        "xaxis2": {
         "anchor": "y2",
         "domain": [
          0.55,
          1
         ],
         "title": {
          "text": "Last Clicked Item Purchased"
         }
        },
        "yaxis": {
         "anchor": "x",
         "domain": [
          0,
          1
         ],
         "title": {
          "text": "Probability"
         }
        },
        "yaxis2": {
         "anchor": "x2",
         "domain": [
          0,
          1
         ],
         "title": {
          "text": "Probability"
         }
        }
       }
      }
     },
     "metadata": {},
     "output_type": "display_data"
    },
    {
     "name": "stdout",
     "output_type": "stream",
     "text": [
      "Average dwell time for buying sessions: 750.38 seconds\n",
      "Average dwell time for non-buying sessions: 359.64 seconds\n"
     ]
    },
    {
     "data": {
      "application/vnd.plotly.v1+json": {
       "config": {
        "plotlyServerURL": "https://plot.ly"
       },
       "data": [
        {
         "hovertemplate": "Day of Week=%{x}<br>Count of Sessions=%{y}<extra></extra>",
         "legendgroup": "",
         "marker": {
          "color": "#636efa",
          "pattern": {
           "shape": ""
          }
         },
         "name": "",
         "orientation": "v",
         "showlegend": false,
         "textposition": "auto",
         "type": "bar",
         "x": [
          "Monday",
          "Tuesday",
          "Wednesday",
          "Thursday",
          "Friday",
          "Saturday",
          "Sunday"
         ],
         "xaxis": "x",
         "y": {
          "bdata": "QgERARcBKgG+AOwAkgE=",
          "dtype": "i2"
         },
         "yaxis": "y"
        }
       ],
       "layout": {
        "barmode": "relative",
        "legend": {
         "tracegroupgap": 0
        },
        "template": {
         "data": {
          "bar": [
           {
            "error_x": {
             "color": "#2a3f5f"
            },
            "error_y": {
             "color": "#2a3f5f"
            },
            "marker": {
             "line": {
              "color": "#E5ECF6",
              "width": 0.5
             },
             "pattern": {
              "fillmode": "overlay",
              "size": 10,
              "solidity": 0.2
             }
            },
            "type": "bar"
           }
          ],
          "barpolar": [
           {
            "marker": {
             "line": {
              "color": "#E5ECF6",
              "width": 0.5
             },
             "pattern": {
              "fillmode": "overlay",
              "size": 10,
              "solidity": 0.2
             }
            },
            "type": "barpolar"
           }
          ],
          "carpet": [
           {
            "aaxis": {
             "endlinecolor": "#2a3f5f",
             "gridcolor": "white",
             "linecolor": "white",
             "minorgridcolor": "white",
             "startlinecolor": "#2a3f5f"
            },
            "baxis": {
             "endlinecolor": "#2a3f5f",
             "gridcolor": "white",
             "linecolor": "white",
             "minorgridcolor": "white",
             "startlinecolor": "#2a3f5f"
            },
            "type": "carpet"
           }
          ],
          "choropleth": [
           {
            "colorbar": {
             "outlinewidth": 0,
             "ticks": ""
            },
            "type": "choropleth"
           }
          ],
          "contour": [
           {
            "colorbar": {
             "outlinewidth": 0,
             "ticks": ""
            },
            "colorscale": [
             [
              0,
              "#0d0887"
             ],
             [
              0.1111111111111111,
              "#46039f"
             ],
             [
              0.2222222222222222,
              "#7201a8"
             ],
             [
              0.3333333333333333,
              "#9c179e"
             ],
             [
              0.4444444444444444,
              "#bd3786"
             ],
             [
              0.5555555555555556,
              "#d8576b"
             ],
             [
              0.6666666666666666,
              "#ed7953"
             ],
             [
              0.7777777777777778,
              "#fb9f3a"
             ],
             [
              0.8888888888888888,
              "#fdca26"
             ],
             [
              1,
              "#f0f921"
             ]
            ],
            "type": "contour"
           }
          ],
          "contourcarpet": [
           {
            "colorbar": {
             "outlinewidth": 0,
             "ticks": ""
            },
            "type": "contourcarpet"
           }
          ],
          "heatmap": [
           {
            "colorbar": {
             "outlinewidth": 0,
             "ticks": ""
            },
            "colorscale": [
             [
              0,
              "#0d0887"
             ],
             [
              0.1111111111111111,
              "#46039f"
             ],
             [
              0.2222222222222222,
              "#7201a8"
             ],
             [
              0.3333333333333333,
              "#9c179e"
             ],
             [
              0.4444444444444444,
              "#bd3786"
             ],
             [
              0.5555555555555556,
              "#d8576b"
             ],
             [
              0.6666666666666666,
              "#ed7953"
             ],
             [
              0.7777777777777778,
              "#fb9f3a"
             ],
             [
              0.8888888888888888,
              "#fdca26"
             ],
             [
              1,
              "#f0f921"
             ]
            ],
            "type": "heatmap"
           }
          ],
          "histogram": [
           {
            "marker": {
             "pattern": {
              "fillmode": "overlay",
              "size": 10,
              "solidity": 0.2
             }
            },
            "type": "histogram"
           }
          ],
          "histogram2d": [
           {
            "colorbar": {
             "outlinewidth": 0,
             "ticks": ""
            },
            "colorscale": [
             [
              0,
              "#0d0887"
             ],
             [
              0.1111111111111111,
              "#46039f"
             ],
             [
              0.2222222222222222,
              "#7201a8"
             ],
             [
              0.3333333333333333,
              "#9c179e"
             ],
             [
              0.4444444444444444,
              "#bd3786"
             ],
             [
              0.5555555555555556,
              "#d8576b"
             ],
             [
              0.6666666666666666,
              "#ed7953"
             ],
             [
              0.7777777777777778,
              "#fb9f3a"
             ],
             [
              0.8888888888888888,
              "#fdca26"
             ],
             [
              1,
              "#f0f921"
             ]
            ],
            "type": "histogram2d"
           }
          ],
          "histogram2dcontour": [
           {
            "colorbar": {
             "outlinewidth": 0,
             "ticks": ""
            },
            "colorscale": [
             [
              0,
              "#0d0887"
             ],
             [
              0.1111111111111111,
              "#46039f"
             ],
             [
              0.2222222222222222,
              "#7201a8"
             ],
             [
              0.3333333333333333,
              "#9c179e"
             ],
             [
              0.4444444444444444,
              "#bd3786"
             ],
             [
              0.5555555555555556,
              "#d8576b"
             ],
             [
              0.6666666666666666,
              "#ed7953"
             ],
             [
              0.7777777777777778,
              "#fb9f3a"
             ],
             [
              0.8888888888888888,
              "#fdca26"
             ],
             [
              1,
              "#f0f921"
             ]
            ],
            "type": "histogram2dcontour"
           }
          ],
          "mesh3d": [
           {
            "colorbar": {
             "outlinewidth": 0,
             "ticks": ""
            },
            "type": "mesh3d"
           }
          ],
          "parcoords": [
           {
            "line": {
             "colorbar": {
              "outlinewidth": 0,
              "ticks": ""
             }
            },
            "type": "parcoords"
           }
          ],
          "pie": [
           {
            "automargin": true,
            "type": "pie"
           }
          ],
          "scatter": [
           {
            "fillpattern": {
             "fillmode": "overlay",
             "size": 10,
             "solidity": 0.2
            },
            "type": "scatter"
           }
          ],
          "scatter3d": [
           {
            "line": {
             "colorbar": {
              "outlinewidth": 0,
              "ticks": ""
             }
            },
            "marker": {
             "colorbar": {
              "outlinewidth": 0,
              "ticks": ""
             }
            },
            "type": "scatter3d"
           }
          ],
          "scattercarpet": [
           {
            "marker": {
             "colorbar": {
              "outlinewidth": 0,
              "ticks": ""
             }
            },
            "type": "scattercarpet"
           }
          ],
          "scattergeo": [
           {
            "marker": {
             "colorbar": {
              "outlinewidth": 0,
              "ticks": ""
             }
            },
            "type": "scattergeo"
           }
          ],
          "scattergl": [
           {
            "marker": {
             "colorbar": {
              "outlinewidth": 0,
              "ticks": ""
             }
            },
            "type": "scattergl"
           }
          ],
          "scattermap": [
           {
            "marker": {
             "colorbar": {
              "outlinewidth": 0,
              "ticks": ""
             }
            },
            "type": "scattermap"
           }
          ],
          "scattermapbox": [
           {
            "marker": {
             "colorbar": {
              "outlinewidth": 0,
              "ticks": ""
             }
            },
            "type": "scattermapbox"
           }
          ],
          "scatterpolar": [
           {
            "marker": {
             "colorbar": {
              "outlinewidth": 0,
              "ticks": ""
             }
            },
            "type": "scatterpolar"
           }
          ],
          "scatterpolargl": [
           {
            "marker": {
             "colorbar": {
              "outlinewidth": 0,
              "ticks": ""
             }
            },
            "type": "scatterpolargl"
           }
          ],
          "scatterternary": [
           {
            "marker": {
             "colorbar": {
              "outlinewidth": 0,
              "ticks": ""
             }
            },
            "type": "scatterternary"
           }
          ],
          "surface": [
           {
            "colorbar": {
             "outlinewidth": 0,
             "ticks": ""
            },
            "colorscale": [
             [
              0,
              "#0d0887"
             ],
             [
              0.1111111111111111,
              "#46039f"
             ],
             [
              0.2222222222222222,
              "#7201a8"
             ],
             [
              0.3333333333333333,
              "#9c179e"
             ],
             [
              0.4444444444444444,
              "#bd3786"
             ],
             [
              0.5555555555555556,
              "#d8576b"
             ],
             [
              0.6666666666666666,
              "#ed7953"
             ],
             [
              0.7777777777777778,
              "#fb9f3a"
             ],
             [
              0.8888888888888888,
              "#fdca26"
             ],
             [
              1,
              "#f0f921"
             ]
            ],
            "type": "surface"
           }
          ],
          "table": [
           {
            "cells": {
             "fill": {
              "color": "#EBF0F8"
             },
             "line": {
              "color": "white"
             }
            },
            "header": {
             "fill": {
              "color": "#C8D4E3"
             },
             "line": {
              "color": "white"
             }
            },
            "type": "table"
           }
          ]
         },
         "layout": {
          "annotationdefaults": {
           "arrowcolor": "#2a3f5f",
           "arrowhead": 0,
           "arrowwidth": 1
          },
          "autotypenumbers": "strict",
          "coloraxis": {
           "colorbar": {
            "outlinewidth": 0,
            "ticks": ""
           }
          },
          "colorscale": {
           "diverging": [
            [
             0,
             "#8e0152"
            ],
            [
             0.1,
             "#c51b7d"
            ],
            [
             0.2,
             "#de77ae"
            ],
            [
             0.3,
             "#f1b6da"
            ],
            [
             0.4,
             "#fde0ef"
            ],
            [
             0.5,
             "#f7f7f7"
            ],
            [
             0.6,
             "#e6f5d0"
            ],
            [
             0.7,
             "#b8e186"
            ],
            [
             0.8,
             "#7fbc41"
            ],
            [
             0.9,
             "#4d9221"
            ],
            [
             1,
             "#276419"
            ]
           ],
           "sequential": [
            [
             0,
             "#0d0887"
            ],
            [
             0.1111111111111111,
             "#46039f"
            ],
            [
             0.2222222222222222,
             "#7201a8"
            ],
            [
             0.3333333333333333,
             "#9c179e"
            ],
            [
             0.4444444444444444,
             "#bd3786"
            ],
            [
             0.5555555555555556,
             "#d8576b"
            ],
            [
             0.6666666666666666,
             "#ed7953"
            ],
            [
             0.7777777777777778,
             "#fb9f3a"
            ],
            [
             0.8888888888888888,
             "#fdca26"
            ],
            [
             1,
             "#f0f921"
            ]
           ],
           "sequentialminus": [
            [
             0,
             "#0d0887"
            ],
            [
             0.1111111111111111,
             "#46039f"
            ],
            [
             0.2222222222222222,
             "#7201a8"
            ],
            [
             0.3333333333333333,
             "#9c179e"
            ],
            [
             0.4444444444444444,
             "#bd3786"
            ],
            [
             0.5555555555555556,
             "#d8576b"
            ],
            [
             0.6666666666666666,
             "#ed7953"
            ],
            [
             0.7777777777777778,
             "#fb9f3a"
            ],
            [
             0.8888888888888888,
             "#fdca26"
            ],
            [
             1,
             "#f0f921"
            ]
           ]
          },
          "colorway": [
           "#636efa",
           "#EF553B",
           "#00cc96",
           "#ab63fa",
           "#FFA15A",
           "#19d3f3",
           "#FF6692",
           "#B6E880",
           "#FF97FF",
           "#FECB52"
          ],
          "font": {
           "color": "#2a3f5f"
          },
          "geo": {
           "bgcolor": "white",
           "lakecolor": "white",
           "landcolor": "#E5ECF6",
           "showlakes": true,
           "showland": true,
           "subunitcolor": "white"
          },
          "hoverlabel": {
           "align": "left"
          },
          "hovermode": "closest",
          "mapbox": {
           "style": "light"
          },
          "paper_bgcolor": "white",
          "plot_bgcolor": "#E5ECF6",
          "polar": {
           "angularaxis": {
            "gridcolor": "white",
            "linecolor": "white",
            "ticks": ""
           },
           "bgcolor": "#E5ECF6",
           "radialaxis": {
            "gridcolor": "white",
            "linecolor": "white",
            "ticks": ""
           }
          },
          "scene": {
           "xaxis": {
            "backgroundcolor": "#E5ECF6",
            "gridcolor": "white",
            "gridwidth": 2,
            "linecolor": "white",
            "showbackground": true,
            "ticks": "",
            "zerolinecolor": "white"
           },
           "yaxis": {
            "backgroundcolor": "#E5ECF6",
            "gridcolor": "white",
            "gridwidth": 2,
            "linecolor": "white",
            "showbackground": true,
            "ticks": "",
            "zerolinecolor": "white"
           },
           "zaxis": {
            "backgroundcolor": "#E5ECF6",
            "gridcolor": "white",
            "gridwidth": 2,
            "linecolor": "white",
            "showbackground": true,
            "ticks": "",
            "zerolinecolor": "white"
           }
          },
          "shapedefaults": {
           "line": {
            "color": "#2a3f5f"
           }
          },
          "ternary": {
           "aaxis": {
            "gridcolor": "white",
            "linecolor": "white",
            "ticks": ""
           },
           "baxis": {
            "gridcolor": "white",
            "linecolor": "white",
            "ticks": ""
           },
           "bgcolor": "#E5ECF6",
           "caxis": {
            "gridcolor": "white",
            "linecolor": "white",
            "ticks": ""
           }
          },
          "title": {
           "x": 0.05
          },
          "xaxis": {
           "automargin": true,
           "gridcolor": "white",
           "linecolor": "white",
           "ticks": "",
           "title": {
            "standoff": 15
           },
           "zerolinecolor": "white",
           "zerolinewidth": 2
          },
          "yaxis": {
           "automargin": true,
           "gridcolor": "white",
           "linecolor": "white",
           "ticks": "",
           "title": {
            "standoff": 15
           },
           "zerolinecolor": "white",
           "zerolinewidth": 2
          }
         }
        },
        "title": {
         "text": "Most Popular Days Based on Number of Sessions"
        },
        "xaxis": {
         "anchor": "y",
         "domain": [
          0,
          1
         ],
         "title": {
          "text": "Day of Week"
         }
        },
        "yaxis": {
         "anchor": "x",
         "domain": [
          0,
          1
         ],
         "title": {
          "text": "Count of Sessions"
         }
        }
       }
      }
     },
     "metadata": {},
     "output_type": "display_data"
    },
    {
     "data": {
      "application/vnd.plotly.v1+json": {
       "config": {
        "plotlyServerURL": "https://plot.ly"
       },
       "data": [
        {
         "hovertemplate": "Day of Week=%{x}<br>Count of Buying Sessions=%{y}<extra></extra>",
         "legendgroup": "",
         "marker": {
          "color": "#636efa",
          "pattern": {
           "shape": ""
          }
         },
         "name": "",
         "orientation": "v",
         "showlegend": false,
         "textposition": "auto",
         "type": "bar",
         "x": [
          "Monday",
          "Tuesday",
          "Wednesday",
          "Thursday",
          "Friday",
          "Saturday",
          "Sunday"
         ],
         "xaxis": "x",
         "y": {
          "bdata": "EhcQDgYSIQ==",
          "dtype": "i1"
         },
         "yaxis": "y"
        }
       ],
       "layout": {
        "barmode": "relative",
        "legend": {
         "tracegroupgap": 0
        },
        "template": {
         "data": {
          "bar": [
           {
            "error_x": {
             "color": "#2a3f5f"
            },
            "error_y": {
             "color": "#2a3f5f"
            },
            "marker": {
             "line": {
              "color": "#E5ECF6",
              "width": 0.5
             },
             "pattern": {
              "fillmode": "overlay",
              "size": 10,
              "solidity": 0.2
             }
            },
            "type": "bar"
           }
          ],
          "barpolar": [
           {
            "marker": {
             "line": {
              "color": "#E5ECF6",
              "width": 0.5
             },
             "pattern": {
              "fillmode": "overlay",
              "size": 10,
              "solidity": 0.2
             }
            },
            "type": "barpolar"
           }
          ],
          "carpet": [
           {
            "aaxis": {
             "endlinecolor": "#2a3f5f",
             "gridcolor": "white",
             "linecolor": "white",
             "minorgridcolor": "white",
             "startlinecolor": "#2a3f5f"
            },
            "baxis": {
             "endlinecolor": "#2a3f5f",
             "gridcolor": "white",
             "linecolor": "white",
             "minorgridcolor": "white",
             "startlinecolor": "#2a3f5f"
            },
            "type": "carpet"
           }
          ],
          "choropleth": [
           {
            "colorbar": {
             "outlinewidth": 0,
             "ticks": ""
            },
            "type": "choropleth"
           }
          ],
          "contour": [
           {
            "colorbar": {
             "outlinewidth": 0,
             "ticks": ""
            },
            "colorscale": [
             [
              0,
              "#0d0887"
             ],
             [
              0.1111111111111111,
              "#46039f"
             ],
             [
              0.2222222222222222,
              "#7201a8"
             ],
             [
              0.3333333333333333,
              "#9c179e"
             ],
             [
              0.4444444444444444,
              "#bd3786"
             ],
             [
              0.5555555555555556,
              "#d8576b"
             ],
             [
              0.6666666666666666,
              "#ed7953"
             ],
             [
              0.7777777777777778,
              "#fb9f3a"
             ],
             [
              0.8888888888888888,
              "#fdca26"
             ],
             [
              1,
              "#f0f921"
             ]
            ],
            "type": "contour"
           }
          ],
          "contourcarpet": [
           {
            "colorbar": {
             "outlinewidth": 0,
             "ticks": ""
            },
            "type": "contourcarpet"
           }
          ],
          "heatmap": [
           {
            "colorbar": {
             "outlinewidth": 0,
             "ticks": ""
            },
            "colorscale": [
             [
              0,
              "#0d0887"
             ],
             [
              0.1111111111111111,
              "#46039f"
             ],
             [
              0.2222222222222222,
              "#7201a8"
             ],
             [
              0.3333333333333333,
              "#9c179e"
             ],
             [
              0.4444444444444444,
              "#bd3786"
             ],
             [
              0.5555555555555556,
              "#d8576b"
             ],
             [
              0.6666666666666666,
              "#ed7953"
             ],
             [
              0.7777777777777778,
              "#fb9f3a"
             ],
             [
              0.8888888888888888,
              "#fdca26"
             ],
             [
              1,
              "#f0f921"
             ]
            ],
            "type": "heatmap"
           }
          ],
          "histogram": [
           {
            "marker": {
             "pattern": {
              "fillmode": "overlay",
              "size": 10,
              "solidity": 0.2
             }
            },
            "type": "histogram"
           }
          ],
          "histogram2d": [
           {
            "colorbar": {
             "outlinewidth": 0,
             "ticks": ""
            },
            "colorscale": [
             [
              0,
              "#0d0887"
             ],
             [
              0.1111111111111111,
              "#46039f"
             ],
             [
              0.2222222222222222,
              "#7201a8"
             ],
             [
              0.3333333333333333,
              "#9c179e"
             ],
             [
              0.4444444444444444,
              "#bd3786"
             ],
             [
              0.5555555555555556,
              "#d8576b"
             ],
             [
              0.6666666666666666,
              "#ed7953"
             ],
             [
              0.7777777777777778,
              "#fb9f3a"
             ],
             [
              0.8888888888888888,
              "#fdca26"
             ],
             [
              1,
              "#f0f921"
             ]
            ],
            "type": "histogram2d"
           }
          ],
          "histogram2dcontour": [
           {
            "colorbar": {
             "outlinewidth": 0,
             "ticks": ""
            },
            "colorscale": [
             [
              0,
              "#0d0887"
             ],
             [
              0.1111111111111111,
              "#46039f"
             ],
             [
              0.2222222222222222,
              "#7201a8"
             ],
             [
              0.3333333333333333,
              "#9c179e"
             ],
             [
              0.4444444444444444,
              "#bd3786"
             ],
             [
              0.5555555555555556,
              "#d8576b"
             ],
             [
              0.6666666666666666,
              "#ed7953"
             ],
             [
              0.7777777777777778,
              "#fb9f3a"
             ],
             [
              0.8888888888888888,
              "#fdca26"
             ],
             [
              1,
              "#f0f921"
             ]
            ],
            "type": "histogram2dcontour"
           }
          ],
          "mesh3d": [
           {
            "colorbar": {
             "outlinewidth": 0,
             "ticks": ""
            },
            "type": "mesh3d"
           }
          ],
          "parcoords": [
           {
            "line": {
             "colorbar": {
              "outlinewidth": 0,
              "ticks": ""
             }
            },
            "type": "parcoords"
           }
          ],
          "pie": [
           {
            "automargin": true,
            "type": "pie"
           }
          ],
          "scatter": [
           {
            "fillpattern": {
             "fillmode": "overlay",
             "size": 10,
             "solidity": 0.2
            },
            "type": "scatter"
           }
          ],
          "scatter3d": [
           {
            "line": {
             "colorbar": {
              "outlinewidth": 0,
              "ticks": ""
             }
            },
            "marker": {
             "colorbar": {
              "outlinewidth": 0,
              "ticks": ""
             }
            },
            "type": "scatter3d"
           }
          ],
          "scattercarpet": [
           {
            "marker": {
             "colorbar": {
              "outlinewidth": 0,
              "ticks": ""
             }
            },
            "type": "scattercarpet"
           }
          ],
          "scattergeo": [
           {
            "marker": {
             "colorbar": {
              "outlinewidth": 0,
              "ticks": ""
             }
            },
            "type": "scattergeo"
           }
          ],
          "scattergl": [
           {
            "marker": {
             "colorbar": {
              "outlinewidth": 0,
              "ticks": ""
             }
            },
            "type": "scattergl"
           }
          ],
          "scattermap": [
           {
            "marker": {
             "colorbar": {
              "outlinewidth": 0,
              "ticks": ""
             }
            },
            "type": "scattermap"
           }
          ],
          "scattermapbox": [
           {
            "marker": {
             "colorbar": {
              "outlinewidth": 0,
              "ticks": ""
             }
            },
            "type": "scattermapbox"
           }
          ],
          "scatterpolar": [
           {
            "marker": {
             "colorbar": {
              "outlinewidth": 0,
              "ticks": ""
             }
            },
            "type": "scatterpolar"
           }
          ],
          "scatterpolargl": [
           {
            "marker": {
             "colorbar": {
              "outlinewidth": 0,
              "ticks": ""
             }
            },
            "type": "scatterpolargl"
           }
          ],
          "scatterternary": [
           {
            "marker": {
             "colorbar": {
              "outlinewidth": 0,
              "ticks": ""
             }
            },
            "type": "scatterternary"
           }
          ],
          "surface": [
           {
            "colorbar": {
             "outlinewidth": 0,
             "ticks": ""
            },
            "colorscale": [
             [
              0,
              "#0d0887"
             ],
             [
              0.1111111111111111,
              "#46039f"
             ],
             [
              0.2222222222222222,
              "#7201a8"
             ],
             [
              0.3333333333333333,
              "#9c179e"
             ],
             [
              0.4444444444444444,
              "#bd3786"
             ],
             [
              0.5555555555555556,
              "#d8576b"
             ],
             [
              0.6666666666666666,
              "#ed7953"
             ],
             [
              0.7777777777777778,
              "#fb9f3a"
             ],
             [
              0.8888888888888888,
              "#fdca26"
             ],
             [
              1,
              "#f0f921"
             ]
            ],
            "type": "surface"
           }
          ],
          "table": [
           {
            "cells": {
             "fill": {
              "color": "#EBF0F8"
             },
             "line": {
              "color": "white"
             }
            },
            "header": {
             "fill": {
              "color": "#C8D4E3"
             },
             "line": {
              "color": "white"
             }
            },
            "type": "table"
           }
          ]
         },
         "layout": {
          "annotationdefaults": {
           "arrowcolor": "#2a3f5f",
           "arrowhead": 0,
           "arrowwidth": 1
          },
          "autotypenumbers": "strict",
          "coloraxis": {
           "colorbar": {
            "outlinewidth": 0,
            "ticks": ""
           }
          },
          "colorscale": {
           "diverging": [
            [
             0,
             "#8e0152"
            ],
            [
             0.1,
             "#c51b7d"
            ],
            [
             0.2,
             "#de77ae"
            ],
            [
             0.3,
             "#f1b6da"
            ],
            [
             0.4,
             "#fde0ef"
            ],
            [
             0.5,
             "#f7f7f7"
            ],
            [
             0.6,
             "#e6f5d0"
            ],
            [
             0.7,
             "#b8e186"
            ],
            [
             0.8,
             "#7fbc41"
            ],
            [
             0.9,
             "#4d9221"
            ],
            [
             1,
             "#276419"
            ]
           ],
           "sequential": [
            [
             0,
             "#0d0887"
            ],
            [
             0.1111111111111111,
             "#46039f"
            ],
            [
             0.2222222222222222,
             "#7201a8"
            ],
            [
             0.3333333333333333,
             "#9c179e"
            ],
            [
             0.4444444444444444,
             "#bd3786"
            ],
            [
             0.5555555555555556,
             "#d8576b"
            ],
            [
             0.6666666666666666,
             "#ed7953"
            ],
            [
             0.7777777777777778,
             "#fb9f3a"
            ],
            [
             0.8888888888888888,
             "#fdca26"
            ],
            [
             1,
             "#f0f921"
            ]
           ],
           "sequentialminus": [
            [
             0,
             "#0d0887"
            ],
            [
             0.1111111111111111,
             "#46039f"
            ],
            [
             0.2222222222222222,
             "#7201a8"
            ],
            [
             0.3333333333333333,
             "#9c179e"
            ],
            [
             0.4444444444444444,
             "#bd3786"
            ],
            [
             0.5555555555555556,
             "#d8576b"
            ],
            [
             0.6666666666666666,
             "#ed7953"
            ],
            [
             0.7777777777777778,
             "#fb9f3a"
            ],
            [
             0.8888888888888888,
             "#fdca26"
            ],
            [
             1,
             "#f0f921"
            ]
           ]
          },
          "colorway": [
           "#636efa",
           "#EF553B",
           "#00cc96",
           "#ab63fa",
           "#FFA15A",
           "#19d3f3",
           "#FF6692",
           "#B6E880",
           "#FF97FF",
           "#FECB52"
          ],
          "font": {
           "color": "#2a3f5f"
          },
          "geo": {
           "bgcolor": "white",
           "lakecolor": "white",
           "landcolor": "#E5ECF6",
           "showlakes": true,
           "showland": true,
           "subunitcolor": "white"
          },
          "hoverlabel": {
           "align": "left"
          },
          "hovermode": "closest",
          "mapbox": {
           "style": "light"
          },
          "paper_bgcolor": "white",
          "plot_bgcolor": "#E5ECF6",
          "polar": {
           "angularaxis": {
            "gridcolor": "white",
            "linecolor": "white",
            "ticks": ""
           },
           "bgcolor": "#E5ECF6",
           "radialaxis": {
            "gridcolor": "white",
            "linecolor": "white",
            "ticks": ""
           }
          },
          "scene": {
           "xaxis": {
            "backgroundcolor": "#E5ECF6",
            "gridcolor": "white",
            "gridwidth": 2,
            "linecolor": "white",
            "showbackground": true,
            "ticks": "",
            "zerolinecolor": "white"
           },
           "yaxis": {
            "backgroundcolor": "#E5ECF6",
            "gridcolor": "white",
            "gridwidth": 2,
            "linecolor": "white",
            "showbackground": true,
            "ticks": "",
            "zerolinecolor": "white"
           },
           "zaxis": {
            "backgroundcolor": "#E5ECF6",
            "gridcolor": "white",
            "gridwidth": 2,
            "linecolor": "white",
            "showbackground": true,
            "ticks": "",
            "zerolinecolor": "white"
           }
          },
          "shapedefaults": {
           "line": {
            "color": "#2a3f5f"
           }
          },
          "ternary": {
           "aaxis": {
            "gridcolor": "white",
            "linecolor": "white",
            "ticks": ""
           },
           "baxis": {
            "gridcolor": "white",
            "linecolor": "white",
            "ticks": ""
           },
           "bgcolor": "#E5ECF6",
           "caxis": {
            "gridcolor": "white",
            "linecolor": "white",
            "ticks": ""
           }
          },
          "title": {
           "x": 0.05
          },
          "xaxis": {
           "automargin": true,
           "gridcolor": "white",
           "linecolor": "white",
           "ticks": "",
           "title": {
            "standoff": 15
           },
           "zerolinecolor": "white",
           "zerolinewidth": 2
          },
          "yaxis": {
           "automargin": true,
           "gridcolor": "white",
           "linecolor": "white",
           "ticks": "",
           "title": {
            "standoff": 15
           },
           "zerolinecolor": "white",
           "zerolinewidth": 2
          }
         }
        },
        "title": {
         "text": "Popular Days for Buying Events"
        },
        "xaxis": {
         "anchor": "y",
         "domain": [
          0,
          1
         ],
         "title": {
          "text": "Day of Week"
         }
        },
        "yaxis": {
         "anchor": "x",
         "domain": [
          0,
          1
         ],
         "title": {
          "text": "Count of Buying Sessions"
         }
        }
       }
      }
     },
     "metadata": {},
     "output_type": "display_data"
    },
    {
     "name": "stdout",
     "output_type": "stream",
     "text": [
      "Class distribution (Buy vs. Not Buy):\n",
      "is_buy\n",
      "0.0    7378\n",
      "1.0     520\n",
      "Name: count, dtype: int64\n",
      "Buy ratio: 0.0658\n",
      "Handling class imbalance...\n",
      "Class distribution after balancing:\n",
      "is_buy\n",
      "1.0    520\n",
      "0.0    520\n",
      "Name: count, dtype: int64\n",
      "Performing feature engineering...\n"
     ]
    },
    {
     "data": {
      "application/vnd.plotly.v1+json": {
       "config": {
        "plotlyServerURL": "https://plot.ly"
       },
       "data": [
        {
         "colorscale": [
          [
           0,
           "rgb(5,48,97)"
          ],
          [
           0.1,
           "rgb(33,102,172)"
          ],
          [
           0.2,
           "rgb(67,147,195)"
          ],
          [
           0.3,
           "rgb(146,197,222)"
          ],
          [
           0.4,
           "rgb(209,229,240)"
          ],
          [
           0.5,
           "rgb(247,247,247)"
          ],
          [
           0.6,
           "rgb(253,219,199)"
          ],
          [
           0.7,
           "rgb(244,165,130)"
          ],
          [
           0.8,
           "rgb(214,96,77)"
          ],
          [
           0.9,
           "rgb(178,24,43)"
          ],
          [
           1,
           "rgb(103,0,31)"
          ]
         ],
         "text": {
          "bdata": "AAAAAAAA+H8AAAAAAAD4fwAAAAAAAPh/AAAAAAAA+H8AAAAAAAD4fwAAAAAAAPh/AAAAAAAA+H8AAAAAAAD4fwAAAAAAAPh/AAAAAAAA+H8AAAAAAAD4fwAAAAAAAPh/AAAAAAAA+H8AAAAAAAD4fwAAAAAAAPh/AAAAAAAA+H8AAAAAAAD4fwAAAAAAAPh/AAAAAAAA+H8K16NwPQrnPwAAAAAAAPh/AAAAAAAA+H8AAAAAAAD4fwAAAAAAAPh/AAAAAAAA+H8AAAAAAAD4fwAAAAAAAPh/AAAAAAAA+H8AAAAAAAD4fwAAAAAAAPh/AAAAAAAA+H8AAAAAAAD4fwAAAAAAAPh/AAAAAAAA+H8AAAAAAAD4fwAAAAAAAPh/AAAAAAAA+H8AAAAAAAD4fwrXo3A9Ctc/SOF6FK5H4T8AAAAAAAD4fwAAAAAAAPh/AAAAAAAA+H8AAAAAAAD4fwAAAAAAAPh/AAAAAAAA+H8AAAAAAAD4fwAAAAAAAPh/AAAAAAAA+H8AAAAAAAD4fwAAAAAAAPh/AAAAAAAA+H8AAAAAAAD4fwAAAAAAAPh/AAAAAAAA+H8AAAAAAAD4fwAAAAAAAPh/CtejcD0K1z/hehSuR+HiP/YoXI/C9eg/AAAAAAAA+H8AAAAAAAD4fwAAAAAAAPh/AAAAAAAA+H8AAAAAAAD4fwAAAAAAAPh/AAAAAAAA+H8AAAAAAAD4fwAAAAAAAPh/AAAAAAAA+H8AAAAAAAD4fwAAAAAAAPh/AAAAAAAA+H8AAAAAAAD4fwAAAAAAAPh/AAAAAAAA+H8UrkfhehTePx+F61G4HuU/AAAAAAAA6D/2KFyPwvXoPwAAAAAAAPh/AAAAAAAA+H8AAAAAAAD4fwAAAAAAAPh/AAAAAAAA+H8AAAAAAAD4fwAAAAAAAPh/AAAAAAAA+H8AAAAAAAD4fwAAAAAAAPh/AAAAAAAA+H8AAAAAAAD4fwAAAAAAAPh/AAAAAAAA+H8AAAAAAAD4f3sUrkfheoS/exSuR+F6tD/hehSuR+HKP5qZmZmZmck/cT0K16NwzT8AAAAAAAD4fwAAAAAAAPh/AAAAAAAA+H8AAAAAAAD4fwAAAAAAAPh/AAAAAAAA+H8AAAAAAAD4fwAAAAAAAPh/AAAAAAAA+H8AAAAAAAD4fwAAAAAAAPh/AAAAAAAA+H8AAAAAAAD4fwAAAAAAAPh/KVyPwvUovL8zMzMzMzPDvwrXo3A9Cse/mpmZmZmZyb/hehSuR+HKv5qZmZmZmam/AAAAAAAA+H8AAAAAAAD4fwAAAAAAAPh/AAAAAAAA+H8AAAAAAAD4fwAAAAAAAPh/AAAAAAAA+H8AAAAAAAD4fwAAAAAAAPh/AAAAAAAA+H8AAAAAAAD4fwAAAAAAAPh/AAAAAAAA+H/D9Shcj8LFv7gehetRuM6/7FG4HoXr0b/Xo3A9CtfTvx+F61G4HtW/CtejcD0Kt797FK5H4XrkPwAAAAAAAPh/AAAAAAAA+H8AAAAAAAD4fwAAAAAAAPh/AAAAAAAA+H8AAAAAAAD4fwAAAAAAAPh/AAAAAAAA+H8AAAAAAAD4fwAAAAAAAPh/AAAAAAAA+H8AAAAAAAD4f7gehetRuJ6/7FG4HoXrsb8zMzMzMzPDvwrXo3A9Cse/UrgehetRyL+amZmZmZmpv+xRuB6F68G/cT0K16Nwzb8AAAAAAAD4fwAAAAAAAPh/AAAAAAAA+H8AAAAAAAD4fwAAAAAAAPh/AAAAAAAA+H8AAAAAAAD4fwAAAAAAAPh/AAAAAAAA+H8AAAAAAAD4fwAAAAAAAPh/AAAAAAAA+H8AAAAAAAD4fwAAAAAAAPh/AAAAAAAA+H8AAAAAAAD4fwAAAAAAAPh/AAAAAAAA+H8AAAAAAAD4fwAAAAAAAPh/AAAAAAAA+H8AAAAAAAD4fwAAAAAAAPh/AAAAAAAA+H8AAAAAAAD4fwAAAAAAAPh/AAAAAAAA+H8AAAAAAAD4fwAAAAAAAPh/AAAAAAAA+H+amZmZmZm5v+xRuB6F68G/exSuR+F6xL8K16NwPQrHv1K4HoXrUci/mpmZmZmZqb8fhetRuB7VP4/C9Shcj+I/pHA9CtejwL8AAAAAAAD4fwAAAAAAAPh/AAAAAAAA+H8AAAAAAAD4fwAAAAAAAPh/AAAAAAAA+H8AAAAAAAD4fwAAAAAAAPh/AAAAAAAA+H8AAAAAAAD4fwrXo3A9Cre/pHA9CtejwL8zMzMzMzPDv8P1KFyPwsW/CtejcD0Kx7+amZmZmZmpv0jhehSuR9E/mpmZmZmZ4T+4HoXrUbi+vwAAAAAAAPh/UrgehetR6D8AAAAAAAD4fwAAAAAAAPh/AAAAAAAA+H8AAAAAAAD4fwAAAAAAAPh/AAAAAAAA+H8AAAAAAAD4fwAAAAAAAPh/exSuR+F6hL97FK5H4XqEP7gehetRuK4/CtejcD0Ktz8AAAAAAAAAAHsUrkfheqQ/exSuR+F6lL97FK5H4Xqkv3sUrkfhepS/AAAAAAAA+H97FK5H4XqUv3sUrkfhepS/AAAAAAAA+H8AAAAAAAD4fwAAAAAAAPh/AAAAAAAA+H8AAAAAAAD4fwAAAAAAAPh/AAAAAAAA+H/sUbgehevBP3E9CtejcM0/7FG4HoXr0T/hehSuR+HaP6RwPQrXo8A/mpmZmZmZuT8K16NwPQq3v+xRuB6F68G/CtejcD0Kt78AAAAAAAD4f3sUrkfherS/exSuR+F6tL97FK5H4XqEvwAAAAAAAPh/AAAAAAAA+H8AAAAAAAD4fwAAAAAAAPh/AAAAAAAA+H8AAAAAAAD4fzMzMzMzM8M/AAAAAAAA0D8zMzMzMzPTPx+F61G4HtU/AAAAAAAA0D97FK5H4XqUPwrXo3A9Cre/pHA9CtejwL97FK5H4Xq0vwAAAAAAAPh/exSuR+F6tL/sUbgeheuxv3sUrkfheoS/mpmZmZmZqb8AAAAAAAD4fwAAAAAAAPh/AAAAAAAA+H8AAAAAAAD4fwAAAAAAAPh/uB6F61G4zj8zMzMzMzPTPx+F61G4HtU/CtejcD0K1z+F61G4HoXbP7gehetRuL4/CtejcD0Kt78zMzMzMzPDv7gehetRuK6/AAAAAAAA+H8K16NwPQq3v3sUrkfherS/exSuR+F6lL+4HoXrUbiuv5qZmZmZmam/AAAAAAAA+H8AAAAAAAD4fwAAAAAAAPh/AAAAAAAA+H8zMzMzMzPTP65H4XoUrtc/cT0K16Nw3T89CtejcD3aPwrXo3A9Cuc/w/UoXI/CxT+4HoXrUbi+v1K4HoXrUci/uB6F61G4vr8AAAAAAAD4fylcj8L1KLy/mpmZmZmZub97FK5H4XqUv+xRuB6F67G/7FG4HoXrsb97FK5H4Xq0vwAAAAAAAPh/AAAAAAAA+H8AAAAAAAD4f7gehetRuK4/exSuR+F6xD8pXI/C9Si8P6RwPQrXo8A/uB6F61G4zj8AAAAAAAAAgLgehetRuJ6/mpmZmZmZqb+4HoXrUbievwAAAAAAAPh/uB6F61G4nr+4HoXrUbiev3sUrkfheoS/exSuR+F6lL97FK5H4XqUv3sUrkfhepS/uB6F61G4nr8AAAAAAAD4fwAAAAAAAPh/exSuR+F6tD8pXI/C9Si8P3sUrkfhepS/uB6F61G4nr8AAAAAAAAAAHsUrkfherS/7FG4HoXrsT97FK5H4XqUv5qZmZmZmbk/AAAAAAAA+H+4HoXrUbiuP3sUrkfhepS/uB6F61G4nr8K16NwPQq3v3sUrkfhepS/uB6F61G4rj97FK5H4XqEP3sUrkfheqS/AAAAAAAA+H8=",
          "dtype": "f8",
          "shape": "19, 19"
         },
         "textfont": {
          "size": 10
         },
         "texttemplate": "%{text}",
         "type": "heatmap",
         "x": [
          "dwell_time_seconds",
          "total_clicks",
          "dayofweek",
          "dayofmonth",
          "hourofclick",
          "click_rate",
          "total_unique_items",
          "total_unique_categories",
          "Number_clicked_visited_categories",
          "Special_offer_click",
          "first_clicked_item_popularity",
          "last_clicked_item_popularity",
          "Late Night",
          "Early Morning",
          "Morning",
          "Noon",
          "Evening",
          "Night",
          "is_buy"
         ],
         "y": [
          "dwell_time_seconds",
          "total_clicks",
          "dayofweek",
          "dayofmonth",
          "hourofclick",
          "click_rate",
          "total_unique_items",
          "total_unique_categories",
          "Number_clicked_visited_categories",
          "Special_offer_click",
          "first_clicked_item_popularity",
          "last_clicked_item_popularity",
          "Late Night",
          "Early Morning",
          "Morning",
          "Noon",
          "Evening",
          "Night",
          "is_buy"
         ],
         "z": {
          "bdata": "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",
          "dtype": "f8",
          "shape": "19, 19"
         },
         "zmax": 1,
         "zmin": -1
        }
       ],
       "layout": {
        "height": 800,
        "template": {
         "data": {
          "bar": [
           {
            "error_x": {
             "color": "#2a3f5f"
            },
            "error_y": {
             "color": "#2a3f5f"
            },
            "marker": {
             "line": {
              "color": "#E5ECF6",
              "width": 0.5
             },
             "pattern": {
              "fillmode": "overlay",
              "size": 10,
              "solidity": 0.2
             }
            },
            "type": "bar"
           }
          ],
          "barpolar": [
           {
            "marker": {
             "line": {
              "color": "#E5ECF6",
              "width": 0.5
             },
             "pattern": {
              "fillmode": "overlay",
              "size": 10,
              "solidity": 0.2
             }
            },
            "type": "barpolar"
           }
          ],
          "carpet": [
           {
            "aaxis": {
             "endlinecolor": "#2a3f5f",
             "gridcolor": "white",
             "linecolor": "white",
             "minorgridcolor": "white",
             "startlinecolor": "#2a3f5f"
            },
            "baxis": {
             "endlinecolor": "#2a3f5f",
             "gridcolor": "white",
             "linecolor": "white",
             "minorgridcolor": "white",
             "startlinecolor": "#2a3f5f"
            },
            "type": "carpet"
           }
          ],
          "choropleth": [
           {
            "colorbar": {
             "outlinewidth": 0,
             "ticks": ""
            },
            "type": "choropleth"
           }
          ],
          "contour": [
           {
            "colorbar": {
             "outlinewidth": 0,
             "ticks": ""
            },
            "colorscale": [
             [
              0,
              "#0d0887"
             ],
             [
              0.1111111111111111,
              "#46039f"
             ],
             [
              0.2222222222222222,
              "#7201a8"
             ],
             [
              0.3333333333333333,
              "#9c179e"
             ],
             [
              0.4444444444444444,
              "#bd3786"
             ],
             [
              0.5555555555555556,
              "#d8576b"
             ],
             [
              0.6666666666666666,
              "#ed7953"
             ],
             [
              0.7777777777777778,
              "#fb9f3a"
             ],
             [
              0.8888888888888888,
              "#fdca26"
             ],
             [
              1,
              "#f0f921"
             ]
            ],
            "type": "contour"
           }
          ],
          "contourcarpet": [
           {
            "colorbar": {
             "outlinewidth": 0,
             "ticks": ""
            },
            "type": "contourcarpet"
           }
          ],
          "heatmap": [
           {
            "colorbar": {
             "outlinewidth": 0,
             "ticks": ""
            },
            "colorscale": [
             [
              0,
              "#0d0887"
             ],
             [
              0.1111111111111111,
              "#46039f"
             ],
             [
              0.2222222222222222,
              "#7201a8"
             ],
             [
              0.3333333333333333,
              "#9c179e"
             ],
             [
              0.4444444444444444,
              "#bd3786"
             ],
             [
              0.5555555555555556,
              "#d8576b"
             ],
             [
              0.6666666666666666,
              "#ed7953"
             ],
             [
              0.7777777777777778,
              "#fb9f3a"
             ],
             [
              0.8888888888888888,
              "#fdca26"
             ],
             [
              1,
              "#f0f921"
             ]
            ],
            "type": "heatmap"
           }
          ],
          "histogram": [
           {
            "marker": {
             "pattern": {
              "fillmode": "overlay",
              "size": 10,
              "solidity": 0.2
             }
            },
            "type": "histogram"
           }
          ],
          "histogram2d": [
           {
            "colorbar": {
             "outlinewidth": 0,
             "ticks": ""
            },
            "colorscale": [
             [
              0,
              "#0d0887"
             ],
             [
              0.1111111111111111,
              "#46039f"
             ],
             [
              0.2222222222222222,
              "#7201a8"
             ],
             [
              0.3333333333333333,
              "#9c179e"
             ],
             [
              0.4444444444444444,
              "#bd3786"
             ],
             [
              0.5555555555555556,
              "#d8576b"
             ],
             [
              0.6666666666666666,
              "#ed7953"
             ],
             [
              0.7777777777777778,
              "#fb9f3a"
             ],
             [
              0.8888888888888888,
              "#fdca26"
             ],
             [
              1,
              "#f0f921"
             ]
            ],
            "type": "histogram2d"
           }
          ],
          "histogram2dcontour": [
           {
            "colorbar": {
             "outlinewidth": 0,
             "ticks": ""
            },
            "colorscale": [
             [
              0,
              "#0d0887"
             ],
             [
              0.1111111111111111,
              "#46039f"
             ],
             [
              0.2222222222222222,
              "#7201a8"
             ],
             [
              0.3333333333333333,
              "#9c179e"
             ],
             [
              0.4444444444444444,
              "#bd3786"
             ],
             [
              0.5555555555555556,
              "#d8576b"
             ],
             [
              0.6666666666666666,
              "#ed7953"
             ],
             [
              0.7777777777777778,
              "#fb9f3a"
             ],
             [
              0.8888888888888888,
              "#fdca26"
             ],
             [
              1,
              "#f0f921"
             ]
            ],
            "type": "histogram2dcontour"
           }
          ],
          "mesh3d": [
           {
            "colorbar": {
             "outlinewidth": 0,
             "ticks": ""
            },
            "type": "mesh3d"
           }
          ],
          "parcoords": [
           {
            "line": {
             "colorbar": {
              "outlinewidth": 0,
              "ticks": ""
             }
            },
            "type": "parcoords"
           }
          ],
          "pie": [
           {
            "automargin": true,
            "type": "pie"
           }
          ],
          "scatter": [
           {
            "fillpattern": {
             "fillmode": "overlay",
             "size": 10,
             "solidity": 0.2
            },
            "type": "scatter"
           }
          ],
          "scatter3d": [
           {
            "line": {
             "colorbar": {
              "outlinewidth": 0,
              "ticks": ""
             }
            },
            "marker": {
             "colorbar": {
              "outlinewidth": 0,
              "ticks": ""
             }
            },
            "type": "scatter3d"
           }
          ],
          "scattercarpet": [
           {
            "marker": {
             "colorbar": {
              "outlinewidth": 0,
              "ticks": ""
             }
            },
            "type": "scattercarpet"
           }
          ],
          "scattergeo": [
           {
            "marker": {
             "colorbar": {
              "outlinewidth": 0,
              "ticks": ""
             }
            },
            "type": "scattergeo"
           }
          ],
          "scattergl": [
           {
            "marker": {
             "colorbar": {
              "outlinewidth": 0,
              "ticks": ""
             }
            },
            "type": "scattergl"
           }
          ],
          "scattermap": [
           {
            "marker": {
             "colorbar": {
              "outlinewidth": 0,
              "ticks": ""
             }
            },
            "type": "scattermap"
           }
          ],
          "scattermapbox": [
           {
            "marker": {
             "colorbar": {
              "outlinewidth": 0,
              "ticks": ""
             }
            },
            "type": "scattermapbox"
           }
          ],
          "scatterpolar": [
           {
            "marker": {
             "colorbar": {
              "outlinewidth": 0,
              "ticks": ""
             }
            },
            "type": "scatterpolar"
           }
          ],
          "scatterpolargl": [
           {
            "marker": {
             "colorbar": {
              "outlinewidth": 0,
              "ticks": ""
             }
            },
            "type": "scatterpolargl"
           }
          ],
          "scatterternary": [
           {
            "marker": {
             "colorbar": {
              "outlinewidth": 0,
              "ticks": ""
             }
            },
            "type": "scatterternary"
           }
          ],
          "surface": [
           {
            "colorbar": {
             "outlinewidth": 0,
             "ticks": ""
            },
            "colorscale": [
             [
              0,
              "#0d0887"
             ],
             [
              0.1111111111111111,
              "#46039f"
             ],
             [
              0.2222222222222222,
              "#7201a8"
             ],
             [
              0.3333333333333333,
              "#9c179e"
             ],
             [
              0.4444444444444444,
              "#bd3786"
             ],
             [
              0.5555555555555556,
              "#d8576b"
             ],
             [
              0.6666666666666666,
              "#ed7953"
             ],
             [
              0.7777777777777778,
              "#fb9f3a"
             ],
             [
              0.8888888888888888,
              "#fdca26"
             ],
             [
              1,
              "#f0f921"
             ]
            ],
            "type": "surface"
           }
          ],
          "table": [
           {
            "cells": {
             "fill": {
              "color": "#EBF0F8"
             },
             "line": {
              "color": "white"
             }
            },
            "header": {
             "fill": {
              "color": "#C8D4E3"
             },
             "line": {
              "color": "white"
             }
            },
            "type": "table"
           }
          ]
         },
         "layout": {
          "annotationdefaults": {
           "arrowcolor": "#2a3f5f",
           "arrowhead": 0,
           "arrowwidth": 1
          },
          "autotypenumbers": "strict",
          "coloraxis": {
           "colorbar": {
            "outlinewidth": 0,
            "ticks": ""
           }
          },
          "colorscale": {
           "diverging": [
            [
             0,
             "#8e0152"
            ],
            [
             0.1,
             "#c51b7d"
            ],
            [
             0.2,
             "#de77ae"
            ],
            [
             0.3,
             "#f1b6da"
            ],
            [
             0.4,
             "#fde0ef"
            ],
            [
             0.5,
             "#f7f7f7"
            ],
            [
             0.6,
             "#e6f5d0"
            ],
            [
             0.7,
             "#b8e186"
            ],
            [
             0.8,
             "#7fbc41"
            ],
            [
             0.9,
             "#4d9221"
            ],
            [
             1,
             "#276419"
            ]
           ],
           "sequential": [
            [
             0,
             "#0d0887"
            ],
            [
             0.1111111111111111,
             "#46039f"
            ],
            [
             0.2222222222222222,
             "#7201a8"
            ],
            [
             0.3333333333333333,
             "#9c179e"
            ],
            [
             0.4444444444444444,
             "#bd3786"
            ],
            [
             0.5555555555555556,
             "#d8576b"
            ],
            [
             0.6666666666666666,
             "#ed7953"
            ],
            [
             0.7777777777777778,
             "#fb9f3a"
            ],
            [
             0.8888888888888888,
             "#fdca26"
            ],
            [
             1,
             "#f0f921"
            ]
           ],
           "sequentialminus": [
            [
             0,
             "#0d0887"
            ],
            [
             0.1111111111111111,
             "#46039f"
            ],
            [
             0.2222222222222222,
             "#7201a8"
            ],
            [
             0.3333333333333333,
             "#9c179e"
            ],
            [
             0.4444444444444444,
             "#bd3786"
            ],
            [
             0.5555555555555556,
             "#d8576b"
            ],
            [
             0.6666666666666666,
             "#ed7953"
            ],
            [
             0.7777777777777778,
             "#fb9f3a"
            ],
            [
             0.8888888888888888,
             "#fdca26"
            ],
            [
             1,
             "#f0f921"
            ]
           ]
          },
          "colorway": [
           "#636efa",
           "#EF553B",
           "#00cc96",
           "#ab63fa",
           "#FFA15A",
           "#19d3f3",
           "#FF6692",
           "#B6E880",
           "#FF97FF",
           "#FECB52"
          ],
          "font": {
           "color": "#2a3f5f"
          },
          "geo": {
           "bgcolor": "white",
           "lakecolor": "white",
           "landcolor": "#E5ECF6",
           "showlakes": true,
           "showland": true,
           "subunitcolor": "white"
          },
          "hoverlabel": {
           "align": "left"
          },
          "hovermode": "closest",
          "mapbox": {
           "style": "light"
          },
          "paper_bgcolor": "white",
          "plot_bgcolor": "#E5ECF6",
          "polar": {
           "angularaxis": {
            "gridcolor": "white",
            "linecolor": "white",
            "ticks": ""
           },
           "bgcolor": "#E5ECF6",
           "radialaxis": {
            "gridcolor": "white",
            "linecolor": "white",
            "ticks": ""
           }
          },
          "scene": {
           "xaxis": {
            "backgroundcolor": "#E5ECF6",
            "gridcolor": "white",
            "gridwidth": 2,
            "linecolor": "white",
            "showbackground": true,
            "ticks": "",
            "zerolinecolor": "white"
           },
           "yaxis": {
            "backgroundcolor": "#E5ECF6",
            "gridcolor": "white",
            "gridwidth": 2,
            "linecolor": "white",
            "showbackground": true,
            "ticks": "",
            "zerolinecolor": "white"
           },
           "zaxis": {
            "backgroundcolor": "#E5ECF6",
            "gridcolor": "white",
            "gridwidth": 2,
            "linecolor": "white",
            "showbackground": true,
            "ticks": "",
            "zerolinecolor": "white"
           }
          },
          "shapedefaults": {
           "line": {
            "color": "#2a3f5f"
           }
          },
          "ternary": {
           "aaxis": {
            "gridcolor": "white",
            "linecolor": "white",
            "ticks": ""
           },
           "baxis": {
            "gridcolor": "white",
            "linecolor": "white",
            "ticks": ""
           },
           "bgcolor": "#E5ECF6",
           "caxis": {
            "gridcolor": "white",
            "linecolor": "white",
            "ticks": ""
           }
          },
          "title": {
           "x": 0.05
          },
          "xaxis": {
           "automargin": true,
           "gridcolor": "white",
           "linecolor": "white",
           "ticks": "",
           "title": {
            "standoff": 15
           },
           "zerolinecolor": "white",
           "zerolinewidth": 2
          },
          "yaxis": {
           "automargin": true,
           "gridcolor": "white",
           "linecolor": "white",
           "ticks": "",
           "title": {
            "standoff": 15
           },
           "zerolinecolor": "white",
           "zerolinewidth": 2
          }
         }
        },
        "title": {
         "text": "Feature Correlation Matrix"
        },
        "width": 900,
        "xaxis": {
         "side": "top"
        }
       }
      }
     },
     "metadata": {},
     "output_type": "display_data"
    },
    {
     "name": "stdout",
     "output_type": "stream",
     "text": [
      "Preparing data for modeling...\n",
      "Training set: 832 samples\n",
      "Test set: 208 samples\n",
      "Training Logistic Regression model...\n",
      "\n",
      "Logistic Regression Results:\n",
      "Accuracy: 0.5192\n",
      "AUC: 0.5486\n",
      "\n",
      "Confusion Matrix:\n",
      "                Predicted Not Buy  Predicted Buy\n",
      "Actual Not Buy                 41             66\n",
      "Actual Buy                     34             67\n",
      "\n",
      "Classification Report:\n",
      "              precision    recall  f1-score   support\n",
      "\n",
      "         0.0       0.55      0.38      0.45       107\n",
      "         1.0       0.50      0.66      0.57       101\n",
      "\n",
      "    accuracy                           0.52       208\n",
      "   macro avg       0.53      0.52      0.51       208\n",
      "weighted avg       0.53      0.52      0.51       208\n",
      "\n"
     ]
    },
    {
     "name": "stderr",
     "output_type": "stream",
     "text": [
      "/home/rjn/miniconda3/envs/cuda/lib/python3.13/site-packages/sklearn/linear_model/_sag.py:348: ConvergenceWarning:\n",
      "\n",
      "The max_iter was reached which means the coef_ did not converge\n",
      "\n"
     ]
    },
    {
     "data": {
      "image/png": "[encoded data removed]",
      "text/plain": [
       "<Figure size 1000x800 with 1 Axes>"
      ]
     },
     "metadata": {},
     "output_type": "display_data"
    },
    {
     "name": "stdout",
     "output_type": "stream",
     "text": [
      "Optimal threshold: 0.5103\n"
     ]
    }
   ],
   "source": [
    "# E-Commerce Clickstream Data Analytics\n",
    "\n",
    "## Setup and Imports\n",
    "\n",
    "import plotly.express as px\n",
    "import plotly.graph_objects as go\n",
    "from plotly.subplots import make_subplots\n",
    "\n",
    "\n",
    "import datetime\n",
    "import warnings\n",
    "from decimal import Decimal\n",
    "\n",
    "import matplotlib.pyplot as plt\n",
    "import numpy as np\n",
    "\n",
    "# Import necessary libraries\n",
    "import pandas as pd\n",
    "import seaborn as sns\n",
    "from sklearn.linear_model import LogisticRegression\n",
    "from sklearn.metrics import (\n",
    "    accuracy_score,\n",
    "    classification_report,\n",
    "    confusion_matrix,\n",
    "    f1_score,\n",
    "    mean_squared_error,\n",
    "    precision_score,\n",
    "    recall_score,\n",
    "    roc_auc_score,\n",
    "    roc_curve,\n",
    ")\n",
    "from sklearn.model_selection import GridSearchCV, train_test_split\n",
    "from sklearn.preprocessing import OneHotEncoder\n",
    "\n",
    "warnings.filterwarnings(\"ignore\", category=FutureWarning)\n",
    "\n",
    "# More modern imports for machine learning models\n",
    "import lightgbm as lgb\n",
    "\n",
    "# Deep learning imports (using PyTorch)\n",
    "import torch\n",
    "import torch.nn as nn\n",
    "import torch.optim as optim\n",
    "from sklearn.ensemble import GradientBoostingClassifier, RandomForestClassifier\n",
    "from sklearn.preprocessing import StandardScaler\n",
    "from torch.utils.data import DataLoader, TensorDataset\n",
    "\n",
    "# Define file paths\n",
    "clicks_file = \"data/yoochoose-data/yoochoose-clicks.dat\"\n",
    "buys_file = \"data/yoochoose-data/yoochoose-buys.dat\"\n",
    "\n",
    "# Setting up better visualization defaults\n",
    "plt.style.use(\"seaborn-v0_8-whitegrid\")\n",
    "plt.rcParams[\"figure.figsize\"] = (12, 8)\n",
    "plt.rcParams[\"axes.labelsize\"] = 14\n",
    "plt.rcParams[\"axes.titlesize\"] = 16\n",
    "plt.rcParams[\"xtick.labelsize\"] = 12\n",
    "plt.rcParams[\"ytick.labelsize\"] = 12\n",
    "\n",
    "# Sampling configuration - Option 1\n",
    "SAMPLE_MODE = True  # Set to False to process the full dataset\n",
    "MAX_CHUNKS = 2  # Process only first 2 chunks instead of all 67\n",
    "SAMPLE_SESSIONS = 1000  # Limit to this many sessions\n",
    "\n",
    "print(\"Setup complete!\")\n",
    "print(\n",
    "    f\"Sampling mode: {'ON - Using a subset of data for testing' if SAMPLE_MODE else 'OFF - Using full dataset'}\"\n",
    ")\n",
    "\n",
    "if SAMPLE_MODE:\n",
    "    print(\n",
    "        f\"Processing max {MAX_CHUNKS} chunks with up to {SAMPLE_SESSIONS} sessions per chunk\"\n",
    "    )\n",
    "\n",
    "## Helper Functions\n",
    "\n",
    "\n",
    "def convert_category(x):\n",
    "    \"\"\"\n",
    "    Handle Category column in the clicks data (Numerical Encoding 1-12 for Category of Items)\n",
    "    \"\"\"\n",
    "    if x == \"S\":\n",
    "        return -1\n",
    "    elif x in [\"1\", \"2\", \"3\", \"4\", \"5\", \"6\", \"7\", \"8\", \"9\", \"10\", \"11\", \"12\"]:\n",
    "        return x\n",
    "    else:\n",
    "        return 13\n",
    "\n",
    "\n",
    "def check_item_in_purchases(first_item, last_item, unique_items_bought, is_buy):\n",
    "    \"\"\"\n",
    "    Check if first or last clicked item is in the set of purchased items\n",
    "    \"\"\"\n",
    "    if is_buy == 1:\n",
    "        if first_item in unique_items_bought or last_item in unique_items_bought:\n",
    "            return True\n",
    "    return False\n",
    "\n",
    "\n",
    "def get_preds(threshold, probabilities):\n",
    "    \"\"\"\n",
    "    Convert probabilities to binary predictions based on threshold\n",
    "    \"\"\"\n",
    "    return [1 if prob > threshold else 0 for prob in probabilities]\n",
    "\n",
    "\n",
    "def calc_special_offer_click(categories):\n",
    "    \"\"\"\n",
    "    Determine if a session included a special offer click\n",
    "    \"\"\"\n",
    "    if -1 in categories:\n",
    "        return 1\n",
    "    else:\n",
    "        return 0\n",
    "\n",
    "\n",
    "def p_root(value, root):\n",
    "    \"\"\"\n",
    "    Calculate p-root of a value\n",
    "    \"\"\"\n",
    "    root_value = 1 / float(root)\n",
    "    return round(Decimal(value) ** Decimal(root_value), 3)\n",
    "\n",
    "\n",
    "def minkowski_distance(x, y, p_value):\n",
    "    \"\"\"\n",
    "    Calculate Minkowski distance between two vectors\n",
    "    \"\"\"\n",
    "    return p_root(sum(pow(abs(a - b), p_value) for a, b in zip(x, y)), p_value)\n",
    "\n",
    "\n",
    "## Data Loading\n",
    "\n",
    "print(\"Loading buys data...\")\n",
    "# Load buys data\n",
    "buys = pd.read_csv(buys_file, names=[\"session\", \"timestamp\", \"item_id\", \"price\", \"qty\"])\n",
    "\n",
    "# Data Loading for Clicks (processing in chunks will be done later)\n",
    "print(\"Setting up columns for clicks data...\")\n",
    "clicks_columns = [\"session\", \"timestamp\", \"item_id\", \"category\"]\n",
    "\n",
    "# Display initial output to confirm data loading\n",
    "print(f\"Buys data shape: {buys.shape}\")\n",
    "print(buys.head())\n",
    "\n",
    "## Data Exploration - Buys\n",
    "\n",
    "print(\"Exploring buys data...\")\n",
    "\n",
    "top_bought_items = buys[\"item_id\"].value_counts().nlargest(10)\n",
    "fig = px.bar(\n",
    "    x=top_bought_items.index.astype(str),\n",
    "    y=top_bought_items.values,\n",
    "    title=\"Top 10 Items with Maximum Purchases\",\n",
    "    labels={\"x\": \"Item ID\", \"y\": \"Count\"}\n",
    ")\n",
    "fig.update_layout(xaxis_tickangle=-45)\n",
    "fig.show()\n",
    "\n",
    "# Top 10 items which are purchased in larger quantities\n",
    "quantity_analysis = (\n",
    "    buys.groupby(\"item_id\")[\"qty\"].sum().sort_values(ascending=False).nlargest(10)\n",
    ")\n",
    "fig = px.bar(\n",
    "    x=quantity_analysis.index.astype(str),\n",
    "    y=quantity_analysis.values,\n",
    "    title=\"Top 10 Items Purchased in Larger Quantities\",\n",
    "    labels={\"x\": \"Item ID\", \"y\": \"Total Quantity\"}\n",
    ")\n",
    "fig.update_layout(xaxis_tickangle=-45)\n",
    "fig.show()\n",
    "\n",
    "\n",
    "# Top 10 items with maximum price\n",
    "price_analysis = (\n",
    "    buys[[\"item_id\", \"price\"]]\n",
    "    .drop_duplicates()\n",
    "    .sort_values(\"price\", ascending=False)\n",
    "    .nlargest(10, \"price\")\n",
    ")\n",
    "fig = px.bar(\n",
    "    x=price_analysis[\"item_id\"].astype(str),\n",
    "    y=price_analysis[\"price\"],\n",
    "    title=\"Top 10 Items with Highest Prices\",\n",
    "    labels={\"x\": \"Item ID\", \"y\": \"Price\"}\n",
    ")\n",
    "fig.update_layout(xaxis_tickangle=-45)\n",
    "fig.show()\n",
    "\n",
    "## Transforming Buys Data\n",
    "\n",
    "print(\"Transforming buys data...\")\n",
    "# Group buys by session\n",
    "grouped_buys = buys.groupby(\"session\")\n",
    "buys_transformed = pd.DataFrame(index=grouped_buys.groups.keys())\n",
    "\n",
    "# Calculate metrics for each buying session\n",
    "buys_transformed[\"Number_items_bought\"] = grouped_buys.item_id.count()\n",
    "buys_transformed[\"unique_items_bought\"] = grouped_buys.item_id.apply(\n",
    "    lambda x: list(x.unique())\n",
    ")\n",
    "buys_transformed[\"is_buy\"] = 1\n",
    "buys_transformed.index.name = \"session\"\n",
    "\n",
    "print(\"Buys transformation complete\")\n",
    "print(buys_transformed.head())\n",
    "\n",
    "## Loading and Transforming Clicks Data (in chunks)\n",
    "\n",
    "# Step 1: Process clicks for session timing analysis\n",
    "print(\"Processing clicks data in chunks (session timing analysis)...\")\n",
    "result_timing = None\n",
    "count = 1\n",
    "\n",
    "for chunk in pd.read_csv(\n",
    "    clicks_file,\n",
    "    names=clicks_columns,\n",
    "    usecols=[\"session\", \"timestamp\", \"item_id\", \"category\"],\n",
    "    parse_dates=[\"timestamp\"],\n",
    "    chunksize=500000,\n",
    "):\n",
    "    print(f\"Processing chunk {count} for timing analysis...\")\n",
    "\n",
    "    # SAMPLING: If in sample mode, take only a subset of sessions\n",
    "    if SAMPLE_MODE:\n",
    "        unique_sessions = chunk[\"session\"].unique()\n",
    "        if len(unique_sessions) > SAMPLE_SESSIONS:\n",
    "            sample_sessions = np.random.choice(\n",
    "                unique_sessions, SAMPLE_SESSIONS, replace=False\n",
    "            )\n",
    "            chunk = chunk[chunk[\"session\"].isin(sample_sessions)]\n",
    "\n",
    "    # Group by session to analyze timing\n",
    "    chunk_grouped = chunk.groupby(\"session\")\n",
    "    chunk_timing = pd.DataFrame()\n",
    "\n",
    "    # Calculate session timing metrics\n",
    "    chunk_timing[\"min\"] = chunk_grouped[\"timestamp\"].min()\n",
    "    chunk_timing[\"max\"] = chunk_grouped[\"timestamp\"].max()\n",
    "    chunk_timing[\"dwell_time\"] = chunk_timing[\"max\"] - chunk_timing[\"min\"]\n",
    "    chunk_timing[\"dwell_time_seconds\"] = chunk_timing[\"dwell_time\"].dt.total_seconds()\n",
    "    chunk_timing[\"total_clicks\"] = chunk_grouped.size()\n",
    "    chunk_timing[\"dayofweek\"] = chunk_timing[\"min\"].dt.dayofweek\n",
    "    chunk_timing[\"dayofmonth\"] = chunk_timing[\"min\"].dt.day\n",
    "    chunk_timing[\"hourofclick\"] = chunk_timing[\"min\"].dt.hour\n",
    "\n",
    "    # Create time of day categories\n",
    "    time_bins = [0, 4, 8, 12, 16, 20, 24]\n",
    "    time_labels = [\"Late Night\", \"Early Morning\", \"Morning\", \"Noon\", \"Evening\", \"Night\"]\n",
    "    chunk_timing[\"timeofday\"] = pd.cut(\n",
    "        chunk_timing[\"hourofclick\"],\n",
    "        bins=time_bins,\n",
    "        labels=time_labels,\n",
    "        include_lowest=True,\n",
    "    )\n",
    "\n",
    "    # Calculate click rate (clicks per second)\n",
    "    chunk_timing[\"click_rate\"] = (\n",
    "        chunk_timing[\"total_clicks\"] / chunk_timing[\"dwell_time_seconds\"]\n",
    "    )\n",
    "    chunk_timing[\"click_rate\"] = chunk_timing[\"click_rate\"].replace(np.inf, np.nan)\n",
    "    chunk_timing[\"click_rate\"] = chunk_timing[\"click_rate\"].fillna(0)\n",
    "\n",
    "    # Combine results\n",
    "    if result_timing is None:\n",
    "        result_timing = chunk_timing\n",
    "    else:\n",
    "        result_timing = pd.concat([result_timing, chunk_timing])\n",
    "\n",
    "    count += 1\n",
    "\n",
    "    # SAMPLING: Stop after MAX_CHUNKS in sample mode\n",
    "    if SAMPLE_MODE and count > MAX_CHUNKS:\n",
    "        print(f\"Stopping after {MAX_CHUNKS} chunks (sample mode)\")\n",
    "        break\n",
    "\n",
    "print(\"Completed timing analysis of clicks data\")\n",
    "\n",
    "# Step 2: Process clicks for item analysis\n",
    "print(\"Processing clicks data in chunks (item analysis)...\")\n",
    "result_items = None\n",
    "count = 1\n",
    "\n",
    "for chunk in pd.read_csv(\n",
    "    clicks_file,\n",
    "    names=clicks_columns,\n",
    "    usecols=[\"session\", \"item_id\", \"category\"],\n",
    "    chunksize=500000,\n",
    "):\n",
    "    print(f\"Processing chunk {count} for item analysis...\")\n",
    "\n",
    "    # SAMPLING: If in sample mode, take only a subset of sessions\n",
    "    if SAMPLE_MODE:\n",
    "        unique_sessions = chunk[\"session\"].unique()\n",
    "        if len(unique_sessions) > SAMPLE_SESSIONS:\n",
    "            sample_sessions = np.random.choice(\n",
    "                unique_sessions, SAMPLE_SESSIONS, replace=False\n",
    "            )\n",
    "            chunk = chunk[chunk[\"session\"].isin(sample_sessions)]\n",
    "\n",
    "    # Group by session\n",
    "    chunk_grouped = chunk.groupby(\"session\")\n",
    "\n",
    "    # Get first/last clicked items and unique counts\n",
    "    chunk_items = pd.DataFrame()\n",
    "    chunk_items[\"first_clicked_item\"] = chunk_grouped[\"item_id\"].first()\n",
    "    chunk_items[\"last_clicked_item\"] = chunk_grouped[\"item_id\"].last()\n",
    "    chunk_items[\"total_unique_items\"] = chunk_grouped[\"item_id\"].nunique()\n",
    "    chunk_items[\"total_unique_categories\"] = chunk_grouped[\"category\"].nunique()\n",
    "\n",
    "    # Combine results\n",
    "    if result_items is None:\n",
    "        result_items = chunk_items\n",
    "    else:\n",
    "        result_items = pd.concat([result_items, chunk_items])\n",
    "\n",
    "    count += 1\n",
    "\n",
    "    # SAMPLING: Stop after MAX_CHUNKS in sample mode\n",
    "    if SAMPLE_MODE and count > MAX_CHUNKS:\n",
    "        print(f\"Stopping after {MAX_CHUNKS} chunks (sample mode)\")\n",
    "        break\n",
    "\n",
    "print(\"Completed item analysis of clicks data\")\n",
    "\n",
    "# Step 3: Process clicks for sequence analysis\n",
    "print(\"Processing clicks data in chunks (sequence analysis)...\")\n",
    "visited_items_by_session = {}\n",
    "count = 1\n",
    "\n",
    "for chunk in pd.read_csv(\n",
    "    clicks_file, names=clicks_columns, usecols=[\"session\", \"item_id\"], chunksize=500000\n",
    "):\n",
    "    print(f\"Processing chunk {count} for sequence analysis...\")\n",
    "\n",
    "    # SAMPLING: If in sample mode, take only a subset of sessions\n",
    "    if SAMPLE_MODE:\n",
    "        unique_sessions = chunk[\"session\"].unique()\n",
    "        if len(unique_sessions) > SAMPLE_SESSIONS:\n",
    "            sample_sessions = np.random.choice(\n",
    "                unique_sessions, SAMPLE_SESSIONS, replace=False\n",
    "            )\n",
    "            chunk = chunk[chunk[\"session\"].isin(sample_sessions)]\n",
    "\n",
    "    # Group items by session\n",
    "    for session, items in chunk.groupby(\"session\")[\"item_id\"]:\n",
    "        if session in visited_items_by_session:\n",
    "            visited_items_by_session[session].extend(items.tolist())\n",
    "        else:\n",
    "            visited_items_by_session[session] = items.tolist()\n",
    "\n",
    "    count += 1\n",
    "\n",
    "    # SAMPLING: Stop after MAX_CHUNKS in sample mode\n",
    "    if SAMPLE_MODE and count > MAX_CHUNKS:\n",
    "        print(f\"Stopping after {MAX_CHUNKS} chunks (sample mode)\")\n",
    "        break\n",
    "\n",
    "# Convert to DataFrame\n",
    "result_sequences = pd.DataFrame(\n",
    "    {\n",
    "        \"session\": list(visited_items_by_session.keys()),\n",
    "        \"visited_items\": list(visited_items_by_session.values()),\n",
    "    }\n",
    ").set_index(\"session\")\n",
    "\n",
    "print(\"Completed sequence analysis of clicks data\")\n",
    "\n",
    "# Step 4: Process clicks for category analysis\n",
    "print(\"Processing clicks data in chunks (category analysis)...\")\n",
    "visited_categories_by_session = {}\n",
    "count = 1\n",
    "\n",
    "for chunk in pd.read_csv(\n",
    "    clicks_file,\n",
    "    names=clicks_columns,\n",
    "    usecols=[\"session\", \"category\"],\n",
    "    converters={\"category\": convert_category},\n",
    "    chunksize=500000,\n",
    "):\n",
    "    print(f\"Processing chunk {count} for category analysis...\")\n",
    "\n",
    "    # SAMPLING: If in sample mode, take only a subset of sessions\n",
    "    if SAMPLE_MODE:\n",
    "        unique_sessions = chunk[\"session\"].unique()\n",
    "        if len(unique_sessions) > SAMPLE_SESSIONS:\n",
    "            sample_sessions = np.random.choice(\n",
    "                unique_sessions, SAMPLE_SESSIONS, replace=False\n",
    "            )\n",
    "            chunk = chunk[chunk[\"session\"].isin(sample_sessions)]\n",
    "\n",
    "    # Group categories by session\n",
    "    for session, categories in chunk.groupby(\"session\")[\"category\"]:\n",
    "        if session in visited_categories_by_session:\n",
    "            visited_categories_by_session[session].extend(categories.tolist())\n",
    "        else:\n",
    "            visited_categories_by_session[session] = categories.tolist()\n",
    "\n",
    "    count += 1\n",
    "\n",
    "    # SAMPLING: Stop after MAX_CHUNKS in sample mode\n",
    "    if SAMPLE_MODE and count > MAX_CHUNKS:\n",
    "        print(f\"Stopping after {MAX_CHUNKS} chunks (sample mode)\")\n",
    "        break\n",
    "\n",
    "# Convert to DataFrame\n",
    "result_categories = pd.DataFrame(\n",
    "    {\n",
    "        \"session\": list(visited_categories_by_session.keys()),\n",
    "        \"visited_categories\": list(visited_categories_by_session.values()),\n",
    "    }\n",
    ").set_index(\"session\")\n",
    "\n",
    "# Add derived metrics\n",
    "result_categories[\"Number_clicked_visited_categories\"] = result_categories[\n",
    "    \"visited_categories\"\n",
    "].apply(len)\n",
    "result_categories[\"Special_offer_click\"] = result_categories[\n",
    "    \"visited_categories\"\n",
    "].apply(calc_special_offer_click)\n",
    "\n",
    "print(\"Completed category analysis of clicks data\")\n",
    "\n",
    "## Calculate Item Popularity\n",
    "\n",
    "print(\"Calculating item popularity from clicks...\")\n",
    "# Clicks popularity\n",
    "clicks_counts = pd.DataFrame()\n",
    "count = 1\n",
    "\n",
    "for chunk in pd.read_csv(\n",
    "    clicks_file, names=clicks_columns, usecols=[\"item_id\"], chunksize=500000\n",
    "):\n",
    "    print(f\"Processing chunk {count} for item popularity...\")\n",
    "\n",
    "    # SAMPLING: If in sample mode, we still want to process more chunks for popularity\n",
    "    # to get a more representative distribution, but we can cap it\n",
    "    if SAMPLE_MODE and count > MAX_CHUNKS * 2:\n",
    "        print(\n",
    "            f\"Stopping popularity calculation after {MAX_CHUNKS * 2} chunks (sample mode)\"\n",
    "        )\n",
    "        break\n",
    "\n",
    "    item_counts = chunk[\"item_id\"].value_counts()\n",
    "\n",
    "    if clicks_counts.empty:\n",
    "        clicks_counts = pd.DataFrame(item_counts)\n",
    "        clicks_counts.columns = [\"count\"]\n",
    "    else:\n",
    "        # Add counts to existing items or create new items\n",
    "        tmp_counts = pd.DataFrame(item_counts)\n",
    "        tmp_counts.columns = [\"count\"]\n",
    "        clicks_counts = pd.concat([clicks_counts, tmp_counts]).groupby(level=0).sum()\n",
    "\n",
    "    count += 1\n",
    "\n",
    "clicks_counts.index.name = \"item_id\"\n",
    "total_clicks = clicks_counts[\"count\"].sum()\n",
    "clicks_counts[\"popularity\"] = clicks_counts[\"count\"] / total_clicks\n",
    "clicks_counts[\"popularity\"] = clicks_counts[\"popularity\"].round(5)\n",
    "\n",
    "print(\"Calculating item popularity from buys...\")\n",
    "# Buys popularity\n",
    "buys_counts = buys[\"item_id\"].value_counts().to_frame(\"count\")\n",
    "buys_counts.index.name = \"item_id\"\n",
    "total_buys = buys_counts[\"count\"].sum()\n",
    "buys_counts[\"popularity\"] = buys_counts[\"count\"] / total_buys\n",
    "buys_counts[\"popularity\"] = buys_counts[\"popularity\"].round(5)\n",
    "\n",
    "## Combine All Click Information\n",
    "\n",
    "print(\"Combining all click information...\")\n",
    "# Check for duplicate indices\n",
    "for df, name in zip(\n",
    "    [result_timing, result_items, result_sequences, result_categories],\n",
    "    [\"result_timing\", \"result_items\", \"result_sequences\", \"result_categories\"],\n",
    "):\n",
    "    if df.index.duplicated().any():\n",
    "        print(f\"Found duplicate indices in {name}, fixing...\")\n",
    "        # Take the first occurrence of each duplicated index\n",
    "        df = df[~df.index.duplicated(keep=\"first\")]\n",
    "\n",
    "# Make sure all dataframes have unique indices before concatenating\n",
    "result_timing = result_timing[~result_timing.index.duplicated(keep=\"first\")]\n",
    "result_items = result_items[~result_items.index.duplicated(keep=\"first\")]\n",
    "result_sequences = result_sequences[~result_sequences.index.duplicated(keep=\"first\")]\n",
    "result_categories = result_categories[~result_categories.index.duplicated(keep=\"first\")]\n",
    "\n",
    "# Merge all click analysis DataFrames\n",
    "clicks_combined = pd.concat(\n",
    "    [result_timing, result_items, result_sequences, result_categories],\n",
    "    axis=1,\n",
    "    join=\"outer\",\n",
    ")\n",
    "\n",
    "print(\"Clicks combined data shape:\", clicks_combined.shape)\n",
    "\n",
    "## Merge with Buy Information and Add Popularity Metrics\n",
    "\n",
    "print(\"Merging click and buy information...\")\n",
    "# Merge with buy information (left join to keep all sessions)\n",
    "training_data = pd.merge(\n",
    "    clicks_combined,\n",
    "    buys_transformed[\"is_buy\"],\n",
    "    how=\"left\",\n",
    "    left_index=True,\n",
    "    right_index=True,\n",
    ")\n",
    "\n",
    "# Fill missing values (non-buying sessions)\n",
    "training_data[\"is_buy\"] = training_data[\"is_buy\"].fillna(0)\n",
    "\n",
    "# Add item popularity for first and last clicked items\n",
    "training_data = pd.merge(\n",
    "    training_data,\n",
    "    clicks_counts[\"popularity\"],\n",
    "    left_on=\"first_clicked_item\",\n",
    "    right_index=True,\n",
    "    how=\"left\",\n",
    ")\n",
    "training_data.rename(\n",
    "    columns={\"popularity\": \"first_clicked_item_popularity\"}, inplace=True\n",
    ")\n",
    "\n",
    "training_data = pd.merge(\n",
    "    training_data,\n",
    "    clicks_counts[\"popularity\"],\n",
    "    left_on=\"last_clicked_item\",\n",
    "    right_index=True,\n",
    "    how=\"left\",\n",
    ")\n",
    "training_data.rename(\n",
    "    columns={\"popularity\": \"last_clicked_item_popularity\"}, inplace=True\n",
    ")\n",
    "\n",
    "# Fill missing popularities with 0\n",
    "training_data[\"first_clicked_item_popularity\"] = training_data[\n",
    "    \"first_clicked_item_popularity\"\n",
    "].fillna(0)\n",
    "training_data[\"last_clicked_item_popularity\"] = training_data[\n",
    "    \"last_clicked_item_popularity\"\n",
    "].fillna(0)\n",
    "\n",
    "print(\"Training data preparation complete\")\n",
    "print(f\"Training data shape: {training_data.shape}\")\n",
    "\n",
    "## Exploratory Data Analysis\n",
    "\n",
    "print(\"Performing exploratory analysis...\")\n",
    "\n",
    "# Check probability of first and last clicked items being purchased\n",
    "buy_sessions = training_data[training_data[\"is_buy\"] == 1]\n",
    "\n",
    "\n",
    "# Function to check if item is in purchased items\n",
    "def check_if_purchased(row):\n",
    "    if not isinstance(row[\"unique_items_bought\"], list):\n",
    "        return 0\n",
    "    if row[\"item_id\"] in row[\"unique_items_bought\"]:\n",
    "        return 1\n",
    "    return 0\n",
    "\n",
    "\n",
    "# Merge buy sessions with unique purchased items\n",
    "buy_analysis = pd.merge(\n",
    "    buy_sessions[[\"first_clicked_item\", \"last_clicked_item\"]],\n",
    "    buys_transformed[\"unique_items_bought\"],\n",
    "    left_index=True,\n",
    "    right_index=True,\n",
    "    how=\"inner\",\n",
    ")\n",
    "\n",
    "# Check first clicked item purchase rate\n",
    "buy_analysis[\"first_item_purchased\"] = buy_analysis.apply(\n",
    "    lambda row: 1 if row[\"first_clicked_item\"] in row[\"unique_items_bought\"] else 0,\n",
    "    axis=1,\n",
    ")\n",
    "\n",
    "# Check last clicked item purchase rate\n",
    "buy_analysis[\"last_item_purchased\"] = buy_analysis.apply(\n",
    "    lambda row: 1 if row[\"last_clicked_item\"] in row[\"unique_items_bought\"] else 0,\n",
    "    axis=1,\n",
    ")\n",
    "\n",
    "# Plot results\n",
    "fig = make_subplots(rows=1, cols=2, \n",
    "                   subplot_titles=[\"Probability of First Clicked Item Being Purchased\", \n",
    "                                  \"Probability of Last Clicked Item Being Purchased\"])\n",
    "\n",
    "for i, col in enumerate(['first_item_purchased', 'last_item_purchased']):\n",
    "    counts = buy_analysis[col].value_counts()\n",
    "    fig.add_trace(\n",
    "        go.Bar(\n",
    "            x=counts.index.astype(str),\n",
    "            y=counts.values / len(buy_analysis),\n",
    "        ),\n",
    "        row=1, col=i+1\n",
    "    )\n",
    "\n",
    "fig.update_layout(\n",
    "    height=500, \n",
    "    width=900,\n",
    "    showlegend=False\n",
    ")\n",
    "fig.update_xaxes(title_text=\"First Clicked Item Purchased\", row=1, col=1)\n",
    "fig.update_xaxes(title_text=\"Last Clicked Item Purchased\", row=1, col=2)\n",
    "fig.update_yaxes(title_text=\"Probability\", row=1, col=1)\n",
    "fig.update_yaxes(title_text=\"Probability\", row=1, col=2)\n",
    "fig.show()\n",
    "\n",
    "# Average dwell time comparison\n",
    "avg_dwell_buy = training_data[training_data[\"is_buy\"] == 1][\"dwell_time_seconds\"].mean()\n",
    "avg_dwell_nobuy = training_data[training_data[\"is_buy\"] == 0][\n",
    "    \"dwell_time_seconds\"\n",
    "].mean()\n",
    "\n",
    "print(f\"Average dwell time for buying sessions: {avg_dwell_buy:.2f} seconds\")\n",
    "print(f\"Average dwell time for non-buying sessions: {avg_dwell_nobuy:.2f} seconds\")\n",
    "\n",
    "# Most popular days analysis\n",
    "day_counts = training_data[\"dayofweek\"].value_counts().sort_index()\n",
    "day_names = [\"Monday\", \"Tuesday\", \"Wednesday\", \"Thursday\", \"Friday\", \"Saturday\", \"Sunday\"]\n",
    "# Create a mapping for days, handling potential float values\n",
    "day_mapping = {}\n",
    "for i in range(7):\n",
    "    day_mapping[float(i)] = day_names[i]\n",
    "    day_mapping[i] = day_names[i]\n",
    "\n",
    "# Use the mapping to convert indices to day names\n",
    "fig = px.bar(\n",
    "    x=[day_mapping.get(i, f\"Day {i}\") for i in day_counts.index],\n",
    "    y=day_counts.values,\n",
    "    title=\"Most Popular Days Based on Number of Sessions\",\n",
    "    labels={\"x\": \"Day of Week\", \"y\": \"Count of Sessions\"}\n",
    ")\n",
    "fig.show()\n",
    "\n",
    "# Popular days for buying events\n",
    "buy_day_counts = training_data[training_data[\"is_buy\"] == 1][\"dayofweek\"].value_counts().sort_index()\n",
    "day_names = [\"Monday\", \"Tuesday\", \"Wednesday\", \"Thursday\", \"Friday\", \"Saturday\", \"Sunday\"]\n",
    "# Create a mapping for days, handling potential float values\n",
    "day_mapping = {}\n",
    "for i in range(7):\n",
    "    day_mapping[float(i)] = day_names[i]\n",
    "    day_mapping[i] = day_names[i]\n",
    "\n",
    "# Use the mapping to convert indices to day names\n",
    "fig = px.bar(\n",
    "    x=[day_mapping.get(i, f\"Day {i}\") for i in buy_day_counts.index],\n",
    "    y=buy_day_counts.values,\n",
    "    title=\"Popular Days for Buying Events\",\n",
    "    labels={\"x\": \"Day of Week\", \"y\": \"Count of Buying Sessions\"}\n",
    ")\n",
    "fig.show()\n",
    "\n",
    "# Class imbalance check\n",
    "print(\"Class distribution (Buy vs. Not Buy):\")\n",
    "print(training_data[\"is_buy\"].value_counts())\n",
    "print(f\"Buy ratio: {training_data['is_buy'].mean():.4f}\")\n",
    "\n",
    "## Handle Class Imbalance\n",
    "\n",
    "print(\"Handling class imbalance...\")\n",
    "\n",
    "\n",
    "# Function to undersample the majority class\n",
    "def undersample(df, target_col):\n",
    "    # Get counts of each class\n",
    "    class_counts = df[target_col].value_counts()\n",
    "\n",
    "    # Identify minority class\n",
    "    minority_class = class_counts.idxmin()\n",
    "    minority_count = class_counts.min()\n",
    "\n",
    "    # Get all rows from minority class\n",
    "    minority_df = df[df[target_col] == minority_class]\n",
    "\n",
    "    # Sample same number of rows from majority class\n",
    "    majority_classes = [c for c in class_counts.index if c != minority_class]\n",
    "    sampled_dfs = [minority_df]\n",
    "\n",
    "    for cls in majority_classes:\n",
    "        majority_df = df[df[target_col] == cls]\n",
    "        sampled_df = majority_df.sample(minority_count, random_state=42)\n",
    "        sampled_dfs.append(sampled_df)\n",
    "\n",
    "    # Combine and shuffle\n",
    "    balanced_df = pd.concat(sampled_dfs).sample(frac=1, random_state=42)\n",
    "\n",
    "    return balanced_df\n",
    "\n",
    "\n",
    "# Create a balanced dataset\n",
    "balanced_training_data = undersample(training_data, \"is_buy\")\n",
    "\n",
    "print(\"Class distribution after balancing:\")\n",
    "print(balanced_training_data[\"is_buy\"].value_counts())\n",
    "\n",
    "## Feature Engineering\n",
    "\n",
    "print(\"Performing feature engineering...\")\n",
    "# One-hot encode time of day\n",
    "balanced_training_data = pd.get_dummies(\n",
    "    balanced_training_data, columns=[\"timeofday\"], prefix=\"\", prefix_sep=\"\"\n",
    ")\n",
    "\n",
    "# Select features for modeling\n",
    "feature_cols = [\n",
    "    \"dwell_time_seconds\",\n",
    "    \"total_clicks\",\n",
    "    \"dayofweek\",\n",
    "    \"dayofmonth\",\n",
    "    \"hourofclick\",\n",
    "    \"click_rate\",\n",
    "    \"total_unique_items\",\n",
    "    \"total_unique_categories\",\n",
    "    \"Number_clicked_visited_categories\",\n",
    "    \"Special_offer_click\",\n",
    "    \"first_clicked_item_popularity\",\n",
    "    \"last_clicked_item_popularity\",\n",
    "    \"Late Night\",\n",
    "    \"Early Morning\",\n",
    "    \"Morning\",\n",
    "    \"Noon\",\n",
    "    \"Evening\",\n",
    "    \"Night\",\n",
    "]\n",
    "\n",
    "# Some session IDs may not have all features, so we need to handle NaNs\n",
    "modeling_data = balanced_training_data[feature_cols + [\"is_buy\"]].copy()\n",
    "modeling_data = modeling_data.fillna(0)\n",
    "\n",
    "# Correlation analysis\n",
    "correlation_matrix = modeling_data.corr()\n",
    "mask = np.triu(np.ones_like(correlation_matrix, dtype=bool))\n",
    "df_mask = correlation_matrix.mask(mask)\n",
    "\n",
    "# Get all possible correlation pairs\n",
    "x_vals = []\n",
    "y_vals = []\n",
    "z_vals = []\n",
    "\n",
    "for i, col in enumerate(correlation_matrix.columns):\n",
    "    for j, row in enumerate(correlation_matrix.index):\n",
    "        if i > j:  # Skip upper triangle\n",
    "            z_vals.append(correlation_matrix.iloc[j, i])\n",
    "            y_vals.append(row)\n",
    "            x_vals.append(col)\n",
    "\n",
    "fig = go.Figure(data=go.Heatmap(\n",
    "    z=df_mask.values,\n",
    "    x=df_mask.columns,\n",
    "    y=df_mask.index,\n",
    "    colorscale='RdBu_r',\n",
    "    zmin=-1,\n",
    "    zmax=1,\n",
    "    text=df_mask.round(2),\n",
    "    texttemplate=\"%{text}\",\n",
    "    textfont={\"size\": 10},\n",
    "))\n",
    "\n",
    "fig.update_layout(\n",
    "    title=\"Feature Correlation Matrix\",\n",
    "    height=800,\n",
    "    width=900,\n",
    "    xaxis={'side': 'top'}\n",
    ")\n",
    "fig.show()\n",
    "\n",
    "## Prepare Data for Modeling\n",
    "\n",
    "print(\"Preparing data for modeling...\")\n",
    "X = modeling_data.drop(\"is_buy\", axis=1)\n",
    "y = modeling_data[\"is_buy\"]\n",
    "\n",
    "# Train-test split\n",
    "X_train, X_test, y_train, y_test = train_test_split(\n",
    "    X, y, test_size=0.2, random_state=42\n",
    ")\n",
    "\n",
    "print(f\"Training set: {X_train.shape[0]} samples\")\n",
    "print(f\"Test set: {X_test.shape[0]} samples\")\n",
    "\n",
    "## Model 1: Logistic Regression\n",
    "\n",
    "print(\"Training Logistic Regression model...\")\n",
    "# Create and train the model\n",
    "log_reg = LogisticRegression(solver=\"saga\", max_iter=1000, random_state=42, n_jobs=-1)\n",
    "log_reg.fit(X_train, y_train)\n",
    "\n",
    "# Make predictions\n",
    "y_pred_proba_lr = log_reg.predict_proba(X_test)[:, 1]\n",
    "threshold = 0.5\n",
    "y_pred_lr = (y_pred_proba_lr >= threshold).astype(int)\n",
    "\n",
    "# Evaluate the model\n",
    "print(\"\\nLogistic Regression Results:\")\n",
    "print(f\"Accuracy: {accuracy_score(y_test, y_pred_lr):.4f}\")\n",
    "print(f\"AUC: {roc_auc_score(y_test, y_pred_proba_lr):.4f}\")\n",
    "print(\"\\nConfusion Matrix:\")\n",
    "cm = confusion_matrix(y_test, y_pred_lr)\n",
    "print(\n",
    "    pd.DataFrame(\n",
    "        cm,\n",
    "        columns=[\"Predicted Not Buy\", \"Predicted Buy\"],\n",
    "        index=[\"Actual Not Buy\", \"Actual Buy\"],\n",
    "    )\n",
    ")\n",
    "\n",
    "print(\"\\nClassification Report:\")\n",
    "print(classification_report(y_test, y_pred_lr))\n",
    "\n",
    "# Plot ROC curve\n",
    "plt.figure(figsize=(10, 8))\n",
    "fpr, tpr, thresholds = roc_curve(y_test, y_pred_proba_lr)\n",
    "plt.plot(fpr, tpr, label=f\"AUC = {roc_auc_score(y_test, y_pred_proba_lr):.4f}\")\n",
    "plt.plot([0, 1], [0, 1], \"k--\", label=\"Random\")\n",
    "plt.xlabel(\"False Positive Rate\")\n",
    "plt.ylabel(\"True Positive Rate\")\n",
    "plt.title(\"ROC Curve - Logistic Regression\")\n",
    "plt.legend()\n",
    "plt.show()\n",
    "\n",
    "# Find optimal threshold\n",
    "roc_df = pd.DataFrame(\n",
    "    {\"fpr\": fpr, \"tpr\": tpr, \"threshold\": thresholds, \"difference\": tpr - fpr}\n",
    ")\n",
    "optimal_threshold = roc_df.loc[roc_df[\"difference\"].idxmax(), \"threshold\"]\n",
    "print(f\"Optimal threshold: {optimal_threshold:.4f}\")\n",
    "\n"
   ]
  },
  {
   "cell_type": "code",
   "execution_count": 5,
   "metadata": {},
   "outputs": [
    {
     "name": "stdout",
     "output_type": "stream",
     "text": [
      "\n",
      "Training LightGBM model...\n",
      "[LightGBM] [Warning] Found whitespace in feature_names, replace with underlines\n",
      "[LightGBM] [Info] Number of positive: 419, number of negative: 413\n",
      "[LightGBM] [Debug] Dataset::GetMultiBinFromSparseFeatures: sparse rate 0.853709\n",
      "[LightGBM] [Debug] Dataset::GetMultiBinFromAllFeatures: sparse rate 0.719624\n",
      "[LightGBM] [Debug] init for col-wise cost 0.033884 seconds, init for row-wise cost 0.000131 seconds\n",
      "[LightGBM] [Info] Auto-choosing row-wise multi-threading, the overhead of testing was 0.033914 seconds.\n",
      "You can set `force_row_wise=true` to remove the overhead.\n",
      "And if memory is not enough, you can set `force_col_wise=true`.\n",
      "[LightGBM] [Debug] Using Sparse Multi-Val Bin\n",
      "[LightGBM] [Info] Total Bins 347\n",
      "[LightGBM] [Info] Number of data points in the train set: 832, number of used features: 15\n",
      "[LightGBM] [Warning] Found whitespace in feature_names, replace with underlines\n",
      "[LightGBM] [Info] [binary:BoostFromScore]: pavg=0.503606 -> initscore=0.014423\n",
      "[LightGBM] [Info] Start training from score 0.014423\n",
      "[LightGBM] [Warning] No further splits with positive gain, best gain: -inf\n",
      "[LightGBM] [Debug] Trained a tree with leaves = 25 and depth = 13\n",
      "Training until validation scores don't improve for 20 rounds\n",
      "[LightGBM] [Warning] No further splits with positive gain, best gain: -inf\n",
      "[LightGBM] [Debug] Trained a tree with leaves = 24 and depth = 13\n",
      "[LightGBM] [Warning] No further splits with positive gain, best gain: -inf\n",
      "[LightGBM] [Debug] Trained a tree with leaves = 24 and depth = 10\n",
      "[LightGBM] [Warning] No further splits with positive gain, best gain: -inf\n",
      "[LightGBM] [Debug] Trained a tree with leaves = 24 and depth = 10\n",
      "[LightGBM] [Warning] No further splits with positive gain, best gain: -inf\n",
      "[LightGBM] [Debug] Trained a tree with leaves = 25 and depth = 11\n",
      "[LightGBM] [Warning] No further splits with positive gain, best gain: -inf\n",
      "[LightGBM] [Debug] Trained a tree with leaves = 25 and depth = 11\n",
      "[LightGBM] [Warning] No further splits with positive gain, best gain: -inf\n",
      "[LightGBM] [Debug] Trained a tree with leaves = 25 and depth = 13\n",
      "[LightGBM] [Warning] No further splits with positive gain, best gain: -inf\n",
      "[LightGBM] [Debug] Trained a tree with leaves = 23 and depth = 13\n",
      "[LightGBM] [Warning] No further splits with positive gain, best gain: -inf\n",
      "[LightGBM] [Debug] Trained a tree with leaves = 23 and depth = 12\n",
      "[LightGBM] [Warning] No further splits with positive gain, best gain: -inf\n",
      "[LightGBM] [Debug] Trained a tree with leaves = 22 and depth = 14\n",
      "[LightGBM] [Warning] No further splits with positive gain, best gain: -inf\n",
      "[LightGBM] [Debug] Trained a tree with leaves = 24 and depth = 14\n",
      "[LightGBM] [Warning] No further splits with positive gain, best gain: -inf\n",
      "[LightGBM] [Debug] Trained a tree with leaves = 23 and depth = 14\n",
      "[LightGBM] [Warning] No further splits with positive gain, best gain: -inf\n",
      "[LightGBM] [Debug] Trained a tree with leaves = 23 and depth = 12\n",
      "[LightGBM] [Warning] No further splits with positive gain, best gain: -inf\n",
      "[LightGBM] [Debug] Trained a tree with leaves = 23 and depth = 13\n",
      "[LightGBM] [Warning] No further splits with positive gain, best gain: -inf\n",
      "[LightGBM] [Debug] Trained a tree with leaves = 24 and depth = 15\n",
      "[LightGBM] [Warning] No further splits with positive gain, best gain: -inf\n",
      "[LightGBM] [Debug] Trained a tree with leaves = 24 and depth = 16\n",
      "[LightGBM] [Warning] No further splits with positive gain, best gain: -inf\n",
      "[LightGBM] [Debug] Trained a tree with leaves = 23 and depth = 12\n",
      "[LightGBM] [Warning] No further splits with positive gain, best gain: -inf\n",
      "[LightGBM] [Debug] Trained a tree with leaves = 23 and depth = 14\n",
      "[LightGBM] [Warning] No further splits with positive gain, best gain: -inf\n",
      "[LightGBM] [Debug] Trained a tree with leaves = 22 and depth = 13\n",
      "[LightGBM] [Warning] No further splits with positive gain, best gain: -inf\n",
      "[LightGBM] [Debug] Trained a tree with leaves = 24 and depth = 14\n",
      "[LightGBM] [Warning] No further splits with positive gain, best gain: -inf\n",
      "[LightGBM] [Debug] Trained a tree with leaves = 24 and depth = 14\n",
      "[LightGBM] [Warning] No further splits with positive gain, best gain: -inf\n",
      "[LightGBM] [Debug] Trained a tree with leaves = 24 and depth = 12\n",
      "[LightGBM] [Warning] No further splits with positive gain, best gain: -inf\n",
      "[LightGBM] [Debug] Trained a tree with leaves = 24 and depth = 15\n",
      "[LightGBM] [Warning] No further splits with positive gain, best gain: -inf\n",
      "[LightGBM] [Debug] Trained a tree with leaves = 23 and depth = 13\n",
      "[LightGBM] [Warning] No further splits with positive gain, best gain: -inf\n",
      "[LightGBM] [Debug] Trained a tree with leaves = 24 and depth = 16\n",
      "[LightGBM] [Warning] No further splits with positive gain, best gain: -inf\n",
      "[LightGBM] [Debug] Trained a tree with leaves = 24 and depth = 13\n",
      "[LightGBM] [Warning] No further splits with positive gain, best gain: -inf\n",
      "[LightGBM] [Debug] Trained a tree with leaves = 23 and depth = 11\n",
      "[LightGBM] [Warning] No further splits with positive gain, best gain: -inf\n",
      "[LightGBM] [Debug] Trained a tree with leaves = 23 and depth = 16\n",
      "[LightGBM] [Warning] No further splits with positive gain, best gain: -inf\n",
      "[LightGBM] [Debug] Trained a tree with leaves = 24 and depth = 16\n",
      "Early stopping, best iteration is:\n",
      "[9]\tvalid_0's auc: 0.620755\tvalid_0's binary_logloss: 0.671115\n",
      "\n",
      "LightGBM Results:\n",
      "Accuracy: 0.6058\n",
      "AUC: 0.6208\n",
      "\n",
      "Confusion Matrix:\n",
      "                Predicted Not Buy  Predicted Buy\n",
      "Actual Not Buy                 53             54\n",
      "Actual Buy                     28             73\n",
      "\n",
      "Classification Report:\n",
      "              precision    recall  f1-score   support\n",
      "\n",
      "         0.0       0.65      0.50      0.56       107\n",
      "         1.0       0.57      0.72      0.64       101\n",
      "\n",
      "    accuracy                           0.61       208\n",
      "   macro avg       0.61      0.61      0.60       208\n",
      "weighted avg       0.62      0.61      0.60       208\n",
      "\n"
     ]
    },
    {
     "data": {
      "image/png": "[encoded data removed]",
      "text/plain": [
       "<Figure size 1200x800 with 1 Axes>"
      ]
     },
     "metadata": {},
     "output_type": "display_data"
    }
   ],
   "source": [
    "## Model 2: LightGBM\n",
    "\n",
    "print(\"\\nTraining LightGBM model...\")\n",
    "# Create and train the LightGBM model\n",
    "gbm = lgb.LGBMClassifier(\n",
    "    boosting_type=\"gbdt\",\n",
    "    learning_rate=0.1,\n",
    "    n_estimators=200,\n",
    "    num_leaves=32,\n",
    "    random_state=42,\n",
    "    n_jobs=-1,\n",
    "    verbose=50\n",
    ")\n",
    "\n",
    "# In newer versions of LightGBM, early_stopping_rounds is passed via callbacks\n",
    "gbm.fit(\n",
    "    X_train,\n",
    "    y_train,\n",
    "    eval_set=[(X_test, y_test)],\n",
    "    eval_metric=[\"auc\", \"binary_logloss\"],\n",
    "    callbacks=[\n",
    "        lgb.early_stopping(20)\n",
    "    ],  # Using callbacks instead of early_stopping_rounds\n",
    "    \n",
    ")\n",
    "\n",
    "# Make predictions\n",
    "y_pred_proba_gbm = gbm.predict_proba(X_test)[:, 1]\n",
    "y_pred_gbm = (y_pred_proba_gbm >= 0.5).astype(int)\n",
    "\n",
    "# Evaluate the model\n",
    "print(\"\\nLightGBM Results:\")\n",
    "print(f\"Accuracy: {accuracy_score(y_test, y_pred_gbm):.4f}\")\n",
    "print(f\"AUC: {roc_auc_score(y_test, y_pred_proba_gbm):.4f}\")\n",
    "print(\"\\nConfusion Matrix:\")\n",
    "cm = confusion_matrix(y_test, y_pred_gbm)\n",
    "print(\n",
    "    pd.DataFrame(\n",
    "        cm,\n",
    "        columns=[\"Predicted Not Buy\", \"Predicted Buy\"],\n",
    "        index=[\"Actual Not Buy\", \"Actual Buy\"],\n",
    "    )\n",
    ")\n",
    "\n",
    "print(\"\\nClassification Report:\")\n",
    "print(classification_report(y_test, y_pred_gbm))\n",
    "\n",
    "# Plot feature importance\n",
    "plt.figure(figsize=(12, 8))\n",
    "# Get feature importances and feature names\n",
    "feature_imp = pd.DataFrame({\n",
    "    'Feature': X.columns, \n",
    "    'Importance': gbm.feature_importances_\n",
    "})\n",
    "# Sort by importance\n",
    "feature_imp = feature_imp.sort_values('Importance', ascending=False).head(15)\n",
    "# Create bar plot with seaborn\n",
    "sns.barplot(x='Importance', y='Feature', data=feature_imp, palette='viridis')\n",
    "plt.title(\"Feature Importance - LightGBM\", fontsize=16)\n",
    "plt.xlabel('Importance', fontsize=14)\n",
    "plt.ylabel('Feature', fontsize=14)\n",
    "plt.tight_layout()\n",
    "plt.show()\n",
    "\n",
    "\n"
   ]
  },
  {
   "cell_type": "code",
   "execution_count": 4,
   "metadata": {},
   "outputs": [
    {
     "name": "stdout",
     "output_type": "stream",
     "text": [
      "\n",
      "Training Random Forest model...\n",
      "\n",
      "Random Forest Results:\n",
      "Accuracy: 0.5721\n",
      "AUC: 0.6119\n",
      "\n",
      "Confusion Matrix:\n",
      "                Predicted Not Buy  Predicted Buy\n",
      "Actual Not Buy                 56             51\n",
      "Actual Buy                     38             63\n",
      "\n",
      "Classification Report:\n",
      "              precision    recall  f1-score   support\n",
      "\n",
      "         0.0       0.60      0.52      0.56       107\n",
      "         1.0       0.55      0.62      0.59       101\n",
      "\n",
      "    accuracy                           0.57       208\n",
      "   macro avg       0.57      0.57      0.57       208\n",
      "weighted avg       0.57      0.57      0.57       208\n",
      "\n"
     ]
    },
    {
     "data": {
      "image/png": "[encoded data removed]",
      "text/plain": [
       "<Figure size 1200x800 with 1 Axes>"
      ]
     },
     "metadata": {},
     "output_type": "display_data"
    },
    {
     "name": "stdout",
     "output_type": "stream",
     "text": [
      "\n",
      "Training Neural Network model with PyTorch...\n",
      "Starting training...\n",
      "Epoch [5/50], Train Loss: 0.6829, Train Acc: 0.5865, Val Loss: 0.6899, Val Acc: 0.5721\n",
      "Epoch [10/50], Train Loss: 0.6686, Train Acc: 0.5986, Val Loss: 0.6833, Val Acc: 0.5625\n",
      "Epoch [15/50], Train Loss: 0.6447, Train Acc: 0.6214, Val Loss: 0.6824, Val Acc: 0.5769\n",
      "Epoch [20/50], Train Loss: 0.6371, Train Acc: 0.6154, Val Loss: 0.6849, Val Acc: 0.5865\n",
      "Epoch [25/50], Train Loss: 0.6328, Train Acc: 0.6250, Val Loss: 0.6855, Val Acc: 0.5962\n",
      "Early stopping at epoch 26\n",
      "\n",
      "Neural Network Results:\n",
      "Accuracy: 0.5962\n",
      "AUC: 0.6130\n",
      "\n",
      "Confusion Matrix:\n",
      "                Predicted Not Buy  Predicted Buy\n",
      "Actual Not Buy                 80             27\n",
      "Actual Buy                     57             44\n",
      "\n",
      "Classification Report:\n",
      "              precision    recall  f1-score   support\n",
      "\n",
      "         0.0       0.58      0.75      0.66       107\n",
      "         1.0       0.62      0.44      0.51       101\n",
      "\n",
      "    accuracy                           0.60       208\n",
      "   macro avg       0.60      0.59      0.58       208\n",
      "weighted avg       0.60      0.60      0.59       208\n",
      "\n"
     ]
    },
    {
     "data": {
      "image/png": "[encoded data removed]",
      "text/plain": [
       "<Figure size 1200x500 with 2 Axes>"
      ]
     },
     "metadata": {},
     "output_type": "display_data"
    },
    {
     "name": "stdout",
     "output_type": "stream",
     "text": [
      "\n",
      "Model Comparison:\n",
      "                     Accuracy     AUC  Precision  Recall  F1 Score\n",
      "Model                                                             \n",
      "Logistic Regression    0.5192  0.5486     0.5038  0.6634    0.5726\n",
      "LightGBM               0.6058  0.6208     0.5748  0.7228    0.6404\n",
      "Random Forest          0.5721  0.6119     0.5526  0.6238    0.5860\n",
      "Neural Network         0.5962  0.6130     0.6197  0.4356    0.5116\n"
     ]
    },
    {
     "data": {
      "image/png": "[encoded data removed]",
      "text/plain": [
       "<Figure size 1000x800 with 1 Axes>"
      ]
     },
     "metadata": {},
     "output_type": "display_data"
    }
   ],
   "source": [
    "## Model 3: Random Forest\n",
    "\n",
    "print(\"\\nTraining Random Forest model...\")\n",
    "# Create and train the Random Forest model\n",
    "rf = RandomForestClassifier(\n",
    "    n_estimators=100, max_depth=10, min_samples_split=10, random_state=42, n_jobs=-1\n",
    ")\n",
    "\n",
    "rf.fit(X_train, y_train)\n",
    "\n",
    "# Make predictions\n",
    "y_pred_proba_rf = rf.predict_proba(X_test)[:, 1]\n",
    "y_pred_rf = (y_pred_proba_rf >= 0.5).astype(int)\n",
    "\n",
    "# Evaluate the model\n",
    "print(\"\\nRandom Forest Results:\")\n",
    "print(f\"Accuracy: {accuracy_score(y_test, y_pred_rf):.4f}\")\n",
    "print(f\"AUC: {roc_auc_score(y_test, y_pred_proba_rf):.4f}\")\n",
    "print(\"\\nConfusion Matrix:\")\n",
    "cm = confusion_matrix(y_test, y_pred_rf)\n",
    "print(\n",
    "    pd.DataFrame(\n",
    "        cm,\n",
    "        columns=[\"Predicted Not Buy\", \"Predicted Buy\"],\n",
    "        index=[\"Actual Not Buy\", \"Actual Buy\"],\n",
    "    )\n",
    ")\n",
    "\n",
    "print(\"\\nClassification Report:\")\n",
    "print(classification_report(y_test, y_pred_rf))\n",
    "\n",
    "# Plot feature importance\n",
    "plt.figure(figsize=(12, 8))\n",
    "feature_importance = pd.DataFrame(\n",
    "    {\"Feature\": X.columns, \"Importance\": rf.feature_importances_}\n",
    ").sort_values(\"Importance\", ascending=False)\n",
    "\n",
    "sns.barplot(x=\"Importance\", y=\"Feature\", data=feature_importance.head(15))\n",
    "plt.title(\"Feature Importance - Random Forest\")\n",
    "plt.show()\n",
    "\n",
    "## Model 4: Neural Network (PyTorch)\n",
    "\n",
    "print(\"\\nTraining Neural Network model with PyTorch...\")\n",
    "\n",
    "\n",
    "# Define PyTorch model\n",
    "class BinaryClassifier(nn.Module):\n",
    "    def __init__(self, input_dim):\n",
    "        super(BinaryClassifier, self).__init__()\n",
    "        self.layer1 = nn.Linear(input_dim, 32)\n",
    "        self.dropout1 = nn.Dropout(0.2)\n",
    "        self.layer2 = nn.Linear(32, 16)\n",
    "        self.dropout2 = nn.Dropout(0.2)\n",
    "        self.layer3 = nn.Linear(16, 1)\n",
    "        self.relu = nn.ReLU()\n",
    "        self.sigmoid = nn.Sigmoid()\n",
    "\n",
    "    def forward(self, x):\n",
    "        x = self.relu(self.layer1(x))\n",
    "        x = self.dropout1(x)\n",
    "        x = self.relu(self.layer2(x))\n",
    "        x = self.dropout2(x)\n",
    "        x = self.sigmoid(self.layer3(x))\n",
    "        return x\n",
    "\n",
    "\n",
    "# Scale the features\n",
    "scaler = StandardScaler()\n",
    "X_train_scaled = scaler.fit_transform(X_train)\n",
    "X_test_scaled = scaler.transform(X_test)\n",
    "\n",
    "# Convert data to PyTorch tensors\n",
    "X_train_tensor = torch.FloatTensor(X_train_scaled)\n",
    "y_train_tensor = torch.FloatTensor(y_train.values).reshape(-1, 1)\n",
    "X_test_tensor = torch.FloatTensor(X_test_scaled)\n",
    "y_test_tensor = torch.FloatTensor(y_test.values).reshape(-1, 1)\n",
    "\n",
    "# Create dataset and dataloader for training\n",
    "train_dataset = TensorDataset(X_train_tensor, y_train_tensor)\n",
    "train_loader = DataLoader(dataset=train_dataset, batch_size=64, shuffle=True)\n",
    "test_dataset = TensorDataset(X_test_tensor, y_test_tensor)\n",
    "test_loader = DataLoader(dataset=test_dataset, batch_size=64, shuffle=False)\n",
    "\n",
    "# Initialize model, loss and optimizer\n",
    "model = BinaryClassifier(input_dim=X_train.shape[1])\n",
    "criterion = nn.BCELoss()\n",
    "optimizer = optim.Adam(model.parameters(), lr=0.001)\n",
    "\n",
    "# Training loop\n",
    "epochs = 50\n",
    "train_losses = []\n",
    "val_losses = []\n",
    "train_accuracies = []\n",
    "val_accuracies = []\n",
    "best_val_loss = float(\"inf\")\n",
    "best_model_state = None\n",
    "patience = 10\n",
    "patience_counter = 0\n",
    "\n",
    "# Training loop\n",
    "print(\"Starting training...\")\n",
    "for epoch in range(epochs):\n",
    "    model.train()\n",
    "    train_loss = 0.0\n",
    "    correct_train = 0\n",
    "    total_train = 0\n",
    "\n",
    "    for inputs, labels in train_loader:\n",
    "        # Forward pass\n",
    "        outputs = model(inputs)\n",
    "        loss = criterion(outputs, labels)\n",
    "\n",
    "        # Backward and optimize\n",
    "        optimizer.zero_grad()\n",
    "        loss.backward()\n",
    "        optimizer.step()\n",
    "\n",
    "        train_loss += loss.item() * inputs.size(0)\n",
    "        predicted = (outputs >= 0.5).float()\n",
    "        total_train += labels.size(0)\n",
    "        correct_train += (predicted == labels).sum().item()\n",
    "\n",
    "    # Calculate training metrics\n",
    "    train_loss = train_loss / len(train_loader.dataset)\n",
    "    train_accuracy = correct_train / total_train\n",
    "    train_losses.append(train_loss)\n",
    "    train_accuracies.append(train_accuracy)\n",
    "\n",
    "    # Validation\n",
    "    model.eval()\n",
    "    val_loss = 0.0\n",
    "    correct_val = 0\n",
    "    total_val = 0\n",
    "\n",
    "    with torch.no_grad():\n",
    "        for inputs, labels in test_loader:\n",
    "            outputs = model(inputs)\n",
    "            loss = criterion(outputs, labels)\n",
    "\n",
    "            val_loss += loss.item() * inputs.size(0)\n",
    "            predicted = (outputs >= 0.5).float()\n",
    "            total_val += labels.size(0)\n",
    "            correct_val += (predicted == labels).sum().item()\n",
    "\n",
    "    # Calculate validation metrics\n",
    "    val_loss = val_loss / len(test_loader.dataset)\n",
    "    val_accuracy = correct_val / total_val\n",
    "    val_losses.append(val_loss)\n",
    "    val_accuracies.append(val_accuracy)\n",
    "\n",
    "    # Early stopping\n",
    "    if val_loss < best_val_loss:\n",
    "        best_val_loss = val_loss\n",
    "        best_model_state = model.state_dict().copy()\n",
    "        patience_counter = 0\n",
    "    else:\n",
    "        patience_counter += 1\n",
    "\n",
    "    if patience_counter >= patience:\n",
    "        print(f\"Early stopping at epoch {epoch+1}\")\n",
    "        break\n",
    "\n",
    "    if (epoch + 1) % 5 == 0:\n",
    "        print(\n",
    "            f\"Epoch [{epoch+1}/{epochs}], \"\n",
    "            f\"Train Loss: {train_loss:.4f}, Train Acc: {train_accuracy:.4f}, \"\n",
    "            f\"Val Loss: {val_loss:.4f}, Val Acc: {val_accuracy:.4f}\"\n",
    "        )\n",
    "\n",
    "# Load best model\n",
    "if best_model_state is not None:\n",
    "    model.load_state_dict(best_model_state)\n",
    "\n",
    "# Make predictions\n",
    "model.eval()\n",
    "with torch.no_grad():\n",
    "    y_pred_proba_nn = model(X_test_tensor).cpu().numpy().flatten()\n",
    "    y_pred_nn = (y_pred_proba_nn >= 0.5).astype(int)\n",
    "\n",
    "# Create history dictionary to match TensorFlow format for later plotting\n",
    "history = {\n",
    "    \"loss\": train_losses,\n",
    "    \"val_loss\": val_losses,\n",
    "    \"accuracy\": train_accuracies,\n",
    "    \"val_accuracy\": val_accuracies,\n",
    "}\n",
    "\n",
    "# Evaluate the model\n",
    "print(\"\\nNeural Network Results:\")\n",
    "print(f\"Accuracy: {accuracy_score(y_test, y_pred_nn):.4f}\")\n",
    "print(f\"AUC: {roc_auc_score(y_test, y_pred_proba_nn):.4f}\")\n",
    "print(\"\\nConfusion Matrix:\")\n",
    "cm = confusion_matrix(y_test, y_pred_nn)\n",
    "print(\n",
    "    pd.DataFrame(\n",
    "        cm,\n",
    "        columns=[\"Predicted Not Buy\", \"Predicted Buy\"],\n",
    "        index=[\"Actual Not Buy\", \"Actual Buy\"],\n",
    "    )\n",
    ")\n",
    "\n",
    "print(\"\\nClassification Report:\")\n",
    "print(classification_report(y_test, y_pred_nn))\n",
    "\n",
    "# Plot training history\n",
    "plt.figure(figsize=(12, 5))\n",
    "plt.subplot(1, 2, 1)\n",
    "plt.plot(history[\"loss\"], label=\"Training Loss\")\n",
    "plt.plot(history[\"val_loss\"], label=\"Validation Loss\")\n",
    "plt.title(\"Loss Over Epochs\")\n",
    "plt.xlabel(\"Epoch\")\n",
    "plt.ylabel(\"Loss\")\n",
    "plt.legend()\n",
    "\n",
    "plt.subplot(1, 2, 2)\n",
    "plt.plot(history[\"accuracy\"], label=\"Training Accuracy\")\n",
    "plt.plot(history[\"val_accuracy\"], label=\"Validation Accuracy\")\n",
    "plt.title(\"Accuracy Over Epochs\")\n",
    "plt.xlabel(\"Epoch\")\n",
    "plt.ylabel(\"Accuracy\")\n",
    "plt.legend()\n",
    "plt.tight_layout()\n",
    "plt.show()\n",
    "\n",
    "## Compare Models\n",
    "\n",
    "print(\"\\nModel Comparison:\")\n",
    "model_comparison = pd.DataFrame(\n",
    "    {\n",
    "        \"Model\": [\"Logistic Regression\", \"LightGBM\", \"Random Forest\", \"Neural Network\"],\n",
    "        \"Accuracy\": [\n",
    "            accuracy_score(y_test, y_pred_lr),\n",
    "            accuracy_score(y_test, y_pred_gbm),\n",
    "            accuracy_score(y_test, y_pred_rf),\n",
    "            accuracy_score(y_test, y_pred_nn),\n",
    "        ],\n",
    "        \"AUC\": [\n",
    "            roc_auc_score(y_test, y_pred_proba_lr),\n",
    "            roc_auc_score(y_test, y_pred_proba_gbm),\n",
    "            roc_auc_score(y_test, y_pred_proba_rf),\n",
    "            roc_auc_score(y_test, y_pred_proba_nn),\n",
    "        ],\n",
    "        \"Precision\": [\n",
    "            precision_score(y_test, y_pred_lr),\n",
    "            precision_score(y_test, y_pred_gbm),\n",
    "            precision_score(y_test, y_pred_rf),\n",
    "            precision_score(y_test, y_pred_nn),\n",
    "        ],\n",
    "        \"Recall\": [\n",
    "            recall_score(y_test, y_pred_lr),\n",
    "            recall_score(y_test, y_pred_gbm),\n",
    "            recall_score(y_test, y_pred_rf),\n",
    "            recall_score(y_test, y_pred_nn),\n",
    "        ],\n",
    "        \"F1 Score\": [\n",
    "            f1_score(y_test, y_pred_lr),\n",
    "            f1_score(y_test, y_pred_gbm),\n",
    "            f1_score(y_test, y_pred_rf),\n",
    "            f1_score(y_test, y_pred_nn),\n",
    "        ],\n",
    "    }\n",
    ")\n",
    "\n",
    "print(model_comparison.set_index(\"Model\").round(4))\n",
    "\n",
    "# Plot ROC curves for all models\n",
    "plt.figure(figsize=(10, 8))\n",
    "\n",
    "# Logistic Regression\n",
    "fpr_lr, tpr_lr, _ = roc_curve(y_test, y_pred_proba_lr)\n",
    "plt.plot(\n",
    "    fpr_lr,\n",
    "    tpr_lr,\n",
    "    label=f\"Logistic Regression (AUC = {roc_auc_score(y_test, y_pred_proba_lr):.4f})\",\n",
    ")\n",
    "\n",
    "# LightGBM\n",
    "fpr_gbm, tpr_gbm, _ = roc_curve(y_test, y_pred_proba_gbm)\n",
    "plt.plot(\n",
    "    fpr_gbm,\n",
    "    tpr_gbm,\n",
    "    label=f\"LightGBM (AUC = {roc_auc_score(y_test, y_pred_proba_gbm):.4f})\",\n",
    ")\n",
    "\n",
    "# Random Forest\n",
    "fpr_rf, tpr_rf, _ = roc_curve(y_test, y_pred_proba_rf)\n",
    "plt.plot(\n",
    "    fpr_rf,\n",
    "    tpr_rf,\n",
    "    label=f\"Random Forest (AUC = {roc_auc_score(y_test, y_pred_proba_rf):.4f})\",\n",
    ")\n",
    "\n",
    "# Neural Network\n",
    "fpr_nn, tpr_nn, _ = roc_curve(y_test, y_pred_proba_nn)\n",
    "plt.plot(\n",
    "    fpr_nn,\n",
    "    tpr_nn,\n",
    "    label=f\"Neural Network (AUC = {roc_auc_score(y_test, y_pred_proba_nn):.4f})\",\n",
    ")\n",
    "\n",
    "# Random baseline\n",
    "plt.plot([0, 1], [0, 1], \"k--\", label=\"Random\")\n",
    "\n",
    "plt.xlabel(\"False Positive Rate\")\n",
    "plt.ylabel(\"True Positive Rate\")\n",
    "plt.title(\"ROC Curves for All Models\")\n",
    "plt.legend()\n",
    "plt.grid(True, alpha=0.3)\n",
    "plt.show()\n",
    "\n"
   ]
  },
  {
   "cell_type": "code",
   "execution_count": null,
   "metadata": {},
   "outputs": [],
   "source": []
  }
 ],
 "metadata": {
  "kernelspec": {
   "display_name": "cuda",
   "language": "python",
   "name": "python3"
  },
  "language_info": {
   "codemirror_mode": {
    "name": "ipython",
    "version": 3
   },
   "file_extension": ".py",
   "mimetype": "text/x-python",
   "name": "python",
   "nbconvert_exporter": "python",
   "pygments_lexer": "ipython3",
   "version": "3.13.2"
  }
 },
 "nbformat": 4,
 "nbformat_minor": 2
}
